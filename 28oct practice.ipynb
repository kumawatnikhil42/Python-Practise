{
 "cells": [
  {
   "cell_type": "code",
   "execution_count": 2,
   "id": "866c234a-e8e8-474d-86c3-19467844a9d7",
   "metadata": {},
   "outputs": [
    {
     "name": "stdout",
     "output_type": "stream",
     "text": [
      "Father class\n"
     ]
    }
   ],
   "source": [
    "class Father:\n",
    "    def info(self):\n",
    "        print(\"Father class\")\n",
    "class Uncle:\n",
    "    def info(self):\n",
    "        print(\"Uncle class\")\n",
    "#MRO=>method resolution order\n",
    "#deep breath algorithm\n",
    "class child(Father,Uncle):\n",
    "    def new(self):\n",
    "        print(\"chlid class\")\n",
    "\n",
    "c1=child()\n",
    "c1.info()"
   ]
  },
  {
   "cell_type": "code",
   "execution_count": 6,
   "id": "020da146-c1ba-4a72-b38f-52f6b5def5e9",
   "metadata": {},
   "outputs": [
    {
     "name": "stdout",
     "output_type": "stream",
     "text": [
      "This is flat class\n"
     ]
    }
   ],
   "source": [
    "#polymorphism=>\n",
    "'''\n",
    "-object,method,instance to work with different behaviour\n",
    "-python support method overriding\n",
    "-python support operator overloading\n",
    "-__repr__() => represent the self\n",
    "-for addition=> __add__\n",
    "-for greater than=> __gt__\n",
    "'''\n",
    "class House:\n",
    "    def info(self):\n",
    "        print(\"This is house class\")\n",
    "        \n",
    "class Flat(House):\n",
    "    def info(self,x):\n",
    "        print(\"This is flat class\")\n",
    "        \n",
    "f1=Flat()\n",
    "f1.info(10)\n"
   ]
  },
  {
   "cell_type": "code",
   "execution_count": 10,
   "id": "8b3e1505-ba69-47d9-af3a-c76227af8f45",
   "metadata": {},
   "outputs": [
    {
     "data": {
      "text/plain": [
       "Data is 10 20"
      ]
     },
     "execution_count": 10,
     "metadata": {},
     "output_type": "execute_result"
    }
   ],
   "source": [
    "class Addnumber:\n",
    "    def __init__(self,num1,num2):\n",
    "        self.num1=num1\n",
    "        self.num2=num2\n",
    "    #dunder method\n",
    "    def __repr__(self):\n",
    "        return f\"Data is {self.num1} {self.num2}\"\n",
    "Addnumber(10,20)"
   ]
  },
  {
   "cell_type": "code",
   "execution_count": 21,
   "id": "504825a7-67c8-4829-9e83-69722339b9b7",
   "metadata": {},
   "outputs": [
    {
     "data": {
      "text/plain": [
       "Data is 25 45"
      ]
     },
     "execution_count": 21,
     "metadata": {},
     "output_type": "execute_result"
    }
   ],
   "source": [
    "#operator overlaoding\n",
    "class Addnumber:\n",
    "    def __init__(self, num1, num2):\n",
    "        self.num1=num1\n",
    "        self.num2=num2\n",
    "        \n",
    "    # dunder method \n",
    "    def __repr__(self):\n",
    "        return f\"Data is {self.num1} {self.num2}\"\n",
    "\n",
    "    #self=a1    numm=a2\n",
    "    def __add__(self,numm):\n",
    "        a=self.num1+numm.num1\n",
    "        b=self.num2+numm.num2\n",
    "        return Addnumber(a,b)\n",
    "\n",
    "a1=Addnumber(10,20)\n",
    "\n",
    "a2=Addnumber(15,25)\n",
    "\n",
    "a1+a2\n"
   ]
  },
  {
   "cell_type": "code",
   "execution_count": 31,
   "id": "0e6dc9be-969b-4a29-96f6-7c33b00da5d2",
   "metadata": {},
   "outputs": [
    {
     "data": {
      "text/plain": [
       "2010"
      ]
     },
     "execution_count": 31,
     "metadata": {},
     "output_type": "execute_result"
    }
   ],
   "source": [
    "#encapsulation=>\n",
    "'''\n",
    "python doesn't have access modifier like public,private,protected,default\n",
    "notation(symbols)=>\n",
    "_ : protected\n",
    "__ : private\n",
    "'''\n",
    "class vehicle:\n",
    "    __year=2010\n",
    "    \n",
    "\n",
    "class TataMotor(vehicle):\n",
    "    salary=990\n",
    "    \n",
    "    \n",
    "#v1=vehicle()\n",
    "#dir(v1)\n",
    "#   __year  => '_vehicle__year'   ( name mangling)\n",
    "# v1._vehicle__year\n",
    "\n",
    "t1=TataMotor()\n",
    "\n",
    "t1._vehicle__year"
   ]
  },
  {
   "cell_type": "code",
   "execution_count": null,
   "id": "4013464e-f081-431d-a574-2391e649ad87",
   "metadata": {},
   "outputs": [],
   "source": []
  }
 ],
 "metadata": {
  "kernelspec": {
   "display_name": "Python 3 (ipykernel)",
   "language": "python",
   "name": "python3"
  },
  "language_info": {
   "codemirror_mode": {
    "name": "ipython",
    "version": 3
   },
   "file_extension": ".py",
   "mimetype": "text/x-python",
   "name": "python",
   "nbconvert_exporter": "python",
   "pygments_lexer": "ipython3",
   "version": "3.10.11"
  }
 },
 "nbformat": 4,
 "nbformat_minor": 5
}
