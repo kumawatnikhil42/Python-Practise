{
 "cells": [
  {
   "cell_type": "code",
   "execution_count": 1,
   "id": "c52be5f7-db76-4d63-915e-7d47445d06ec",
   "metadata": {},
   "outputs": [
    {
     "data": {
      "text/plain": [
       "'\\n'"
      ]
     },
     "execution_count": 1,
     "metadata": {},
     "output_type": "execute_result"
    }
   ],
   "source": [
    "#Abstraction\n",
    "'''\n",
    "-Abstraction in python is defined as a process of handling complexity by hiding unnecessary information from the user.\n",
    "-In Python, abstraction can be achieved by having/using abstract classes and methods in our programs.\n",
    "-Python provides the abc module to use the abstraction in the Python.\n",
    "-syntax=> from abc import ABC,abstractmethod\n",
    "          class ClassName(ABC):\n",
    "-abstract base class cannot be intitialise(it work as a blueprint for all the child classes)\n",
    "-first we have make a abstract class then in abstract class we have to make atleasst one abstract method by decorator @abstractmethod.\n",
    "-second we implement our code in child class.\n",
    "'''\n"
   ]
  },
  {
   "cell_type": "code",
   "execution_count": null,
   "id": "66dac110-bfd5-4446-82d4-a2ae71760fe5",
   "metadata": {},
   "outputs": [],
   "source": [
    "#decorators=>\n",
    "'''\n",
    "-it allows programmers to modify the behaviour of a function or class\n",
    "-Decorators allow us to wrap another function in order to extend the behaviour of the wrapped function, without permanently modifying it\n",
    "-syntax=> @decoratorname\n",
    "'''\n"
   ]
  },
  {
   "cell_type": "code",
   "execution_count": 28,
   "id": "61a6e72c-4ee3-4f2c-bde7-09755215b5b7",
   "metadata": {},
   "outputs": [
    {
     "name": "stdout",
     "output_type": "stream",
     "text": [
      "greeting func\n",
      "cube func\n"
     ]
    }
   ],
   "source": [
    "def hello(func):\n",
    "    def greeting():\n",
    "        print(\"greeting func\")\n",
    "        func()\n",
    "    return greeting\n",
    "@hello\n",
    "#here cube is wrapped function and wrapped in hello\n",
    "def cube():\n",
    "    print(\"cube func\")\n",
    "cube()"
   ]
  },
  {
   "cell_type": "code",
   "execution_count": 31,
   "id": "e5ca213d-1e9e-4ebe-9130-c5369675b7d4",
   "metadata": {},
   "outputs": [
    {
     "name": "stdout",
     "output_type": "stream",
     "text": [
      "hello salary here\n"
     ]
    }
   ],
   "source": [
    "#1.property decorator => it is used call afunc. without () and it can use by object only\n",
    "class Amount:\n",
    "    @property\n",
    "    def salary(self):\n",
    "        print(\"hello salary here\")\n",
    "\n",
    "a1=Amount()\n",
    "a1.salary"
   ]
  },
  {
   "cell_type": "code",
   "execution_count": 37,
   "id": "856005ad-4ed7-4412-802a-7610d7e64354",
   "metadata": {},
   "outputs": [
    {
     "name": "stdout",
     "output_type": "stream",
     "text": [
      "hello salary here\n"
     ]
    }
   ],
   "source": [
    "#2. staticmethod decorator => it cannot be modify\n",
    "class Amount:\n",
    "    @staticmethod\n",
    "    def salary():\n",
    "        print(\"hello salary here\")\n",
    "\n",
    "a1=Amount()\n",
    "#a1.salary()\n",
    "Amount.salary()"
   ]
  },
  {
   "cell_type": "code",
   "execution_count": 41,
   "id": "d7ff998e-2331-457a-b516-93bf853fecac",
   "metadata": {},
   "outputs": [
    {
     "name": "stdout",
     "output_type": "stream",
     "text": [
      "Dollar class has amount 100\n"
     ]
    }
   ],
   "source": [
    "class Dollar:\n",
    "    def __init__(self,amount):\n",
    "        self.amount=amount\n",
    "    def __repr__(self):\n",
    "        return f\"Dollar class has amount {self.amount}\"\n",
    "        \n",
    "\n",
    "d1=Dollar(100)\n",
    "print(d1)"
   ]
  },
  {
   "cell_type": "code",
   "execution_count": 4,
   "id": "0494b504-4ecb-46cf-94e0-5a5c89baca54",
   "metadata": {},
   "outputs": [
    {
     "data": {
      "text/plain": [
       "Euro class has amount 180"
      ]
     },
     "execution_count": 4,
     "metadata": {},
     "output_type": "execute_result"
    }
   ],
   "source": [
    "#. classmethod\n",
    "class Dollar:\n",
    "    def __init__(self,amount):\n",
    "        self.amount=amount\n",
    "    def __repr__(self):\n",
    "        return f\"Dollar class has amount {self.amount}\"\n",
    "    @classmethod\n",
    "    def conversion(cls,amount):\n",
    "        return cls(80+amount)\n",
    "\n",
    "class Euro(Dollar):\n",
    "    def __init__(self,amount):\n",
    "        self.amount=amount\n",
    "\n",
    "    def __repr__(self):\n",
    "        return f\"Euro class has amount {self.amount}\"\n",
    "\n",
    "\n",
    "e1=Euro(100)\n",
    "e1.conversion(100)\n"
   ]
  },
  {
   "cell_type": "code",
   "execution_count": null,
   "id": "c4a8c797-1e5e-4e54-9f34-b507ea734325",
   "metadata": {},
   "outputs": [],
   "source": []
  }
 ],
 "metadata": {
  "kernelspec": {
   "display_name": "Python 3 (ipykernel)",
   "language": "python",
   "name": "python3"
  },
  "language_info": {
   "codemirror_mode": {
    "name": "ipython",
    "version": 3
   },
   "file_extension": ".py",
   "mimetype": "text/x-python",
   "name": "python",
   "nbconvert_exporter": "python",
   "pygments_lexer": "ipython3",
   "version": "3.10.11"
  }
 },
 "nbformat": 4,
 "nbformat_minor": 5
}
