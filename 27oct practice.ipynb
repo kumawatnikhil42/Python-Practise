{
 "cells": [
  {
   "cell_type": "code",
   "execution_count": 1,
   "id": "5a5c1052-2e0f-48ea-8542-92815b4c67bb",
   "metadata": {},
   "outputs": [],
   "source": [
    "#class and objects\n",
    "#class=> it is collection of objects and it contains the blueprints or the prototype from which the objects are being created\n",
    "#object=>it is an entity which has state(characterstic) and behaviour(functionality)\n",
    "#syntax=> class Student:\n",
    "              #statements  \n",
    "#class variable=>make in class example name,sid"
   ]
  },
  {
   "cell_type": "code",
   "execution_count": 2,
   "id": "a1ccd777-77c7-474e-a93e-60035aff8719",
   "metadata": {},
   "outputs": [],
   "source": [
    "#constructer=>it helps to initialize memory and it always run when object is created\n",
    "#syntax =>__init__()\n",
    "#self=> it represents the instance of class that is currently being used\n",
    "#self is pass as argument always\n"
   ]
  },
  {
   "cell_type": "code",
   "execution_count": 40,
   "id": "132482f9-093d-424e-8017-4142cd0dd831",
   "metadata": {},
   "outputs": [
    {
     "name": "stdout",
     "output_type": "stream",
     "text": [
      "Employee details: Name: Anil \n",
      "Id: 3 \n",
      "Department: pqr \n",
      "Salary: 55000\n"
     ]
    }
   ],
   "source": [
    "#instance variable=>make with self in constructer otherwise it is local and access by only object\n",
    "class Employee:\n",
    "    def __init__(self, name, sid, department, salary):\n",
    "        self.name = name\n",
    "        self.sid = sid\n",
    "        self.department = department\n",
    "        self.salary = salary\n",
    "    def information(self):\n",
    "        print(\"Employee details:\", \"Name:\",self.name,\"\\nId:\" ,self.sid,\"\\nDepartment:\", self.department,\"\\nSalary:\", self.salary)\n",
    "\n",
    "emp1 = Employee(\"Nikhil\", 1, \"xyz\", 50000)\n",
    "emp2 = Employee(\"Ayush\", 2, \"abc\", 60000)\n",
    "emp3 = Employee(\"Anil\", 3, \"pqr\", 55000)\n",
    "emp4 = Employee(\"Ankit\", 4, \"lmn\", 70000)\n",
    "emp3.information()"
   ]
  },
  {
   "cell_type": "code",
   "execution_count": 11,
   "id": "89c6a30d-12ee-4bfa-8482-1a9b138c756c",
   "metadata": {},
   "outputs": [
    {
     "data": {
      "text/plain": [
       "'\\nfetures=>\\n-inheritance \\n-encapsulation\\n-abstraction\\n-polymorphism\\n-objects and classes\\n-\\n'"
      ]
     },
     "execution_count": 11,
     "metadata": {},
     "output_type": "execute_result"
    }
   ],
   "source": [
    "                                                #OOPs=>object oriented programming\n",
    "\n",
    "'''\n",
    "fetures=>\n",
    "-inheritance \n",
    "-encapsulation\n",
    "-abstraction\n",
    "-polymorphism\n",
    "-objects and classes\n",
    "-\n",
    "'''\n"
   ]
  },
  {
   "cell_type": "code",
   "execution_count": 9,
   "id": "ae102bad-6a8a-4180-ad69-810337d79b90",
   "metadata": {},
   "outputs": [
    {
     "name": "stdout",
     "output_type": "stream",
     "text": [
      "[120, 90]\n"
     ]
    }
   ],
   "source": [
    "'''\n",
    "-Inheritance = it is property in which we reuse the codecode reusuablity and new implementation(parentclass = original class and \n",
    "chlid class = reuse class )\n",
    "\n",
    "types of inheritance:\n",
    "1. Single inheritance: when a child/derived class is derived from only one parent/base class.\n",
    "\n",
    "2. Multiple inheritance: when child class is derived or inherited from more than one parent class.\n",
    "\n",
    "3. Multilevel inheritance: in this,features of base class and derived class are further inherited into new derived\n",
    "class.This is similar to a relationship representing a child and a grandfather.\n",
    "\n",
    "4. Hierarchical inheritance: when more than one derived class are created from a single base.\n",
    "\n",
    "5. Hybrid inheritance: this consist multiple type of inheritance.\n",
    "'''"
   ]
  },
  {
   "cell_type": "code",
   "execution_count": null,
   "id": "73abb8b3-2b5c-48c6-9f47-3cc44b7fc5c4",
   "metadata": {},
   "outputs": [],
   "source": []
  }
 ],
 "metadata": {
  "kernelspec": {
   "display_name": "Python 3 (ipykernel)",
   "language": "python",
   "name": "python3"
  },
  "language_info": {
   "codemirror_mode": {
    "name": "ipython",
    "version": 3
   },
   "file_extension": ".py",
   "mimetype": "text/x-python",
   "name": "python",
   "nbconvert_exporter": "python",
   "pygments_lexer": "ipython3",
   "version": "3.10.11"
  }
 },
 "nbformat": 4,
 "nbformat_minor": 5
}
