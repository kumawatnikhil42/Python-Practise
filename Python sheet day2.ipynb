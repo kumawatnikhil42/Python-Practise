{
 "cells": [
  {
   "cell_type": "code",
   "execution_count": 34,
   "id": "a62e7fd9-6811-4201-97b5-1bc903e482f9",
   "metadata": {},
   "outputs": [
    {
     "name": "stdout",
     "output_type": "stream",
     "text": [
      "xxxxx\n"
     ]
    }
   ],
   "source": [
    "#Day 2\n",
    "\n",
    "\n",
    "#Q1\n",
    "def generate_n_char(n,c):\n",
    "    r=\"\"\n",
    "    for i in range(n):\n",
    "        r+=c\n",
    "    print(r)\n",
    "  \n",
    "generate_n_char(5,'x')\n",
    "     \n",
    "        \n",
    "        "
   ]
  },
  {
   "cell_type": "code",
   "execution_count": 5,
   "id": "e88a7a27-a062-4237-bbb5-4b890f4dafe9",
   "metadata": {},
   "outputs": [
    {
     "name": "stdout",
     "output_type": "stream",
     "text": [
      "1000\n"
     ]
    }
   ],
   "source": [
    "#The function max() from exercise 1) and the function max_of_three() from exercise 2) will only \n",
    "#work for two and three numbers, respectively. But suppose we have a much larger number of \n",
    "#numbers, or suppose we cannot tell in advance how many they are? Write a function max_in_list() \n",
    "#that takes a list of numbers and returns the largest one\n",
    "\n",
    "##Q2\n",
    "def max_in_list(s):\n",
    "    return max(s)\n",
    "list=[1,2,3,4,1000,5]\n",
    "larger=max_in_list(list)\n",
    "print(larger)"
   ]
  },
  {
   "cell_type": "code",
   "execution_count": 45,
   "id": "4d13e369-a293-487c-b99b-74649e7edd5e",
   "metadata": {},
   "outputs": [
    {
     "name": "stdout",
     "output_type": "stream",
     "text": [
      "[6, 7]\n"
     ]
    }
   ],
   "source": [
    "#Q3\n",
    "def func(words):\n",
    "    num=list(map(len,words))\n",
    "    print(num)\n",
    "func(('nikhil','kumawat'))"
   ]
  },
  {
   "cell_type": "code",
   "execution_count": 58,
   "id": "f418308e-4608-46e0-b21f-f1ce8edc6811",
   "metadata": {},
   "outputs": [
    {
     "name": "stdout",
     "output_type": "stream",
     "text": [
      "7\n"
     ]
    }
   ],
   "source": [
    "#Q4\n",
    "def find_longest_word(x):\n",
    "    num=max(list(map(len,x)))\n",
    "    return num\n",
    "    \n",
    "length=find_longest_word(['abc','abcd','abgvj','abcgtdf'])\n",
    "print(length)"
   ]
  },
  {
   "cell_type": "code",
   "execution_count": 55,
   "id": "518a4733-f7ba-4de2-bccf-2bd5ce904ae7",
   "metadata": {},
   "outputs": [
    {
     "name": "stdout",
     "output_type": "stream",
     "text": [
      "5\n"
     ]
    }
   ],
   "source": [
    "#by lambda\n",
    "find_word = lambda x: max(map(len, x))\n",
    "\n",
    "length1 = find_word(['abc', 'abcd', 'abgvj'])\n",
    "print(length)\n"
   ]
  },
  {
   "cell_type": "code",
   "execution_count": 70,
   "id": "e983bef4-d895-4bb3-8053-173374a123cd",
   "metadata": {},
   "outputs": [
    {
     "name": "stdout",
     "output_type": "stream",
     "text": [
      "['america', 'russia']\n"
     ]
    }
   ],
   "source": [
    "#Q5\n",
    "def filter_long_word(x,n):\n",
    "    num=[]\n",
    "    for i in x:\n",
    "        if(len(i)>n):\n",
    "            num.append(i)    \n",
    "    return num\n",
    "long=filter_long_word(['abcd','abc','america','india','russia'],5)\n",
    "print(long)\n",
    "    "
   ]
  },
  {
   "cell_type": "code",
   "execution_count": 82,
   "id": "ad9a5de5-8f1c-4483-bac4-f67e6033a20f",
   "metadata": {},
   "outputs": [
    {
     "name": "stdout",
     "output_type": "stream",
     "text": [
      "['america', 'russia']\n"
     ]
    }
   ],
   "source": [
    "#by lambda\n",
    "filter_long=lambda x,n :[i for i in x if(len(i)>n)] \n",
    "filter=filter_long(['abcd','abc','america','india','russia'],5)\n",
    "print(filter)"
   ]
  },
  {
   "cell_type": "code",
   "execution_count": 7,
   "id": "855d16be-b2a0-467a-8bd4-3b9f32d8fac4",
   "metadata": {},
   "outputs": [],
   "source": [
    "##Q6\n",
    "\n"
   ]
  },
  {
   "cell_type": "code",
   "execution_count": 12,
   "id": "f11e7b07-9ca1-451a-838b-dca82ad2faae",
   "metadata": {},
   "outputs": [
    {
     "name": "stdout",
     "output_type": "stream",
     "text": [
      "this is pangram\n"
     ]
    }
   ],
   "source": [
    "##Q7\n",
    "def check(sentence):\n",
    "    alphabet = set(\"abcdefghijklmnopqrstuvwxyz\")\n",
    "    if(set(sentence)>=alphabet):\n",
    "        print(\"this is pangram\")\n",
    "    else:\n",
    "        print(\"this is not pangram\")\n",
    "\n",
    "check(\"the quick brown fox jumps over the lazy dog\")"
   ]
  },
  {
   "cell_type": "code",
   "execution_count": null,
   "id": "9f8111b1-06b0-4252-b6dd-e115fb85320f",
   "metadata": {},
   "outputs": [],
   "source": [
    "#Q8\n"
   ]
  },
  {
   "cell_type": "code",
   "execution_count": 13,
   "id": "e6719c63-2490-4f4d-9536-3b0316a62604",
   "metadata": {},
   "outputs": [
    {
     "name": "stdout",
     "output_type": "stream",
     "text": [
      "{'a': 7, 'b': 14, 'c': 3, 'd': 3}\n"
     ]
    }
   ],
   "source": [
    "#Q9\n",
    "def char_freq(s):\n",
    "    frequency_dict = {}\n",
    "    for char in s:\n",
    "        if char in frequency_dict:\n",
    "            frequency_dict[char] += 1\n",
    "        else:\n",
    "            frequency_dict[char] = 1\n",
    "    return frequency_dict\n",
    "\n",
    "given= \"abbabcbdbabdbdbabababcbcbab\"\n",
    "result = char_freq(given)\n",
    "print(result)"
   ]
  },
  {
   "cell_type": "code",
   "execution_count": null,
   "id": "d6616010-a54e-41f1-898f-3717162af3ea",
   "metadata": {},
   "outputs": [],
   "source": []
  }
 ],
 "metadata": {
  "kernelspec": {
   "display_name": "Python 3 (ipykernel)",
   "language": "python",
   "name": "python3"
  },
  "language_info": {
   "codemirror_mode": {
    "name": "ipython",
    "version": 3
   },
   "file_extension": ".py",
   "mimetype": "text/x-python",
   "name": "python",
   "nbconvert_exporter": "python",
   "pygments_lexer": "ipython3",
   "version": "3.10.11"
  }
 },
 "nbformat": 4,
 "nbformat_minor": 5
}
