{
 "cells": [
  {
   "cell_type": "code",
   "execution_count": 9,
   "id": "001ed2c2-6c6b-4475-9fa3-c70d4c0eaa78",
   "metadata": {},
   "outputs": [
    {
     "name": "stdin",
     "output_type": "stream",
     "text": [
      "enter your name nikhil\n"
     ]
    },
    {
     "name": "stdout",
     "output_type": "stream",
     "text": [
      "Hello, nikhil\n"
     ]
    }
   ],
   "source": [
    "#day1\n",
    "\n",
    "\n",
    "#Q1\n",
    "name=input(\"enter your name\")\n",
    "print(\"Hello,\",name)"
   ]
  },
  {
   "cell_type": "code",
   "execution_count": 1,
   "id": "dc415883-e468-4ff9-a366-5c77951db7d6",
   "metadata": {},
   "outputs": [
    {
     "name": "stdin",
     "output_type": "stream",
     "text": [
      "enter first no. -2\n",
      "enter second no. 1\n"
     ]
    },
    {
     "name": "stdout",
     "output_type": "stream",
     "text": [
      "sum is negative\n"
     ]
    }
   ],
   "source": [
    "#Q2\n",
    "x=int(input(\"enter first no.\"))\n",
    "y=int(input(\"enter second no.\"))\n",
    "sum_=x+y\n",
    "if(sum_>0):\n",
    "    print(\"sum is positive\")\n",
    "else:\n",
    "    print(\"sum is negative\")"
   ]
  },
  {
   "cell_type": "code",
   "execution_count": 17,
   "id": "07cde1d5-9942-49d1-b519-64e138595935",
   "metadata": {},
   "outputs": [
    {
     "name": "stdin",
     "output_type": "stream",
     "text": [
      "enter no. 13\n",
      "enter confirm no. 12\n",
      "enter confirm no. 12\n",
      "enter confirm no. 12\n",
      "enter confirm no. 12\n",
      "enter confirm no. 12\n",
      "enter confirm no. 12\n",
      "enter confirm no. 13\n"
     ]
    },
    {
     "name": "stdout",
     "output_type": "stream",
     "text": [
      "correct\n"
     ]
    }
   ],
   "source": [
    "#Q3\n",
    "x=int(input(\"enter no.\"))\n",
    "while(True):\n",
    "    y=int(input(\"enter confirm no.\"))\n",
    "    if(x==y):\n",
    "        print(\"correct\")\n",
    "        break"
   ]
  },
  {
   "cell_type": "code",
   "execution_count": 4,
   "id": "475a803f-d3c5-4b2d-8cd7-938dde129bfd",
   "metadata": {},
   "outputs": [
    {
     "name": "stdin",
     "output_type": "stream",
     "text": [
      "enter your first name nikhil\n",
      "enter your last name kumawat\n"
     ]
    },
    {
     "name": "stdout",
     "output_type": "stream",
     "text": [
      "nikhil.kumawat\n"
     ]
    }
   ],
   "source": [
    "#Q4\n",
    "firstname =input(\"enter your first name\")\n",
    "lastname = input(\"enter your last name\")\n",
    "wholename=firstname+'.'+lastname\n",
    "print(wholename)\n",
    "\n"
   ]
  },
  {
   "cell_type": "code",
   "execution_count": 28,
   "id": "cbdaf7ca-b6f6-4569-aef2-7fa13766acac",
   "metadata": {},
   "outputs": [
    {
     "name": "stdin",
     "output_type": "stream",
     "text": [
      "Enter your full name:  Nikhil Kumawat\n"
     ]
    },
    {
     "name": "stdout",
     "output_type": "stream",
     "text": [
      "nIKHILkUMAWAT\n"
     ]
    }
   ],
   "source": [
    "#Q5\n",
    "user_input = input(\"Enter your full name: \")\n",
    "user_input1 = ''\n",
    "for i in user_input:\n",
    "    if('A' <= i <= 'Z'):\n",
    "        user_input1 += i.lower()\n",
    "    elif('a' <= i <= 'z'):\n",
    "        user_input1 += i.upper()\n",
    "print(user_input1)"
   ]
  },
  {
   "cell_type": "code",
   "execution_count": 6,
   "id": "3af9aded-ccf0-4f98-bf03-1f435558ef7f",
   "metadata": {},
   "outputs": [
    {
     "name": "stdout",
     "output_type": "stream",
     "text": [
      "total sum 10\n",
      "toatal product 24\n"
     ]
    }
   ],
   "source": [
    "#Q6\n",
    "mylist=[1,2,3,4]\n",
    "sum=0\n",
    "for i in mylist:\n",
    "    sum+=i\n",
    "print(\"total sum\",sum)\n",
    "multiply=1\n",
    "for i in mylist:\n",
    "    multiply*=i\n",
    "print(\"toatal product\",multiply)\n",
    "    "
   ]
  },
  {
   "cell_type": "code",
   "execution_count": 19,
   "id": "6d120fbf-ce54-48e2-bda2-d6f1a6ea8f37",
   "metadata": {},
   "outputs": [
    {
     "name": "stdout",
     "output_type": "stream",
     "text": [
      "10 is not in the list\n"
     ]
    }
   ],
   "source": [
    "#Q7\n",
    "x=10\n",
    "a=[1,2,3,4,5,6,7,8]\n",
    "y=False\n",
    "for i in a:\n",
    "    if(i==x):\n",
    "        y=True\n",
    "        break\n",
    "if(y==True):\n",
    "    print(x,\"is in the list\")\n",
    "else:\n",
    "    print(x,\"is not in the list\")\n",
    "        \n"
   ]
  },
  {
   "cell_type": "code",
   "execution_count": 24,
   "id": "cd67a44f-5cc8-4388-86c0-3488943d0481",
   "metadata": {},
   "outputs": [
    {
     "name": "stdout",
     "output_type": "stream",
     "text": [
      "not have common member\n"
     ]
    }
   ],
   "source": [
    "#Q8\n",
    "list1=[1,2,3,4,5]\n",
    "list2=[6,7,8,9,10]\n",
    "x=False\n",
    "for i in list1:\n",
    "    for j in list2:\n",
    "        if(i==j):\n",
    "            x=True\n",
    "            break\n",
    "        else:\n",
    "            break\n",
    "if(x==True):\n",
    "    print(\"have common member\")\n",
    "else:\n",
    "    print(\"not have common member\")\n",
    "            \n"
   ]
  },
  {
   "cell_type": "code",
   "execution_count": 33,
   "id": "89399cbf-8cdb-4def-a551-1fa6b4d265e2",
   "metadata": {},
   "outputs": [
    {
     "name": "stdout",
     "output_type": "stream",
     "text": [
      "has common element\n"
     ]
    }
   ],
   "source": [
    "#by using function:\n",
    "def is_member(x,a):\n",
    "    for i in a:\n",
    "        if(i==x):\n",
    "            return True\n",
    "    \n",
    "        \n",
    "mylist1=[1,2,3,4,5]\n",
    "mylist2=[5,6,7,8,9]\n",
    "y=False\n",
    "for i in mylist1:\n",
    "    if(is_member(i,mylist2)):\n",
    "        y=True\n",
    "        break\n",
    "\n",
    "if(y==True):\n",
    "    print(\"has common element\")\n",
    "else:\n",
    "    print(\"has not common element\")\n",
    "        "
   ]
  },
  {
   "cell_type": "code",
   "execution_count": 40,
   "id": "e994290d-30a2-4b6c-a327-de922fb1550a",
   "metadata": {},
   "outputs": [
    {
     "name": "stdout",
     "output_type": "stream",
     "text": [
      "*****\n",
      "********\n",
      "****\n"
     ]
    }
   ],
   "source": [
    "#Q9\n",
    "list=[5,8,4]\n",
    "for i in list:\n",
    "    y=i*'*'\n",
    "    print(y)"
   ]
  },
  {
   "cell_type": "code",
   "execution_count": null,
   "id": "7a862484-f4e6-4555-b108-05cf2e741bb2",
   "metadata": {},
   "outputs": [],
   "source": [
    "a. Find the athletes who participated only in 100m race \n",
    "b. Find the athletes who participated only in 200m race\n",
    "c. Find the athletes who participated both 100m and 200m race\n",
    "d. Find the athletes who participated only one race"
   ]
  },
  {
   "cell_type": "code",
   "execution_count": 55,
   "id": "e0fc5c23-5e3d-4414-9237-1173c467905b",
   "metadata": {},
   "outputs": [
    {
     "name": "stdout",
     "output_type": "stream",
     "text": [
      "the athletes who participated only in 100m: {'Rajesh', 'Vikay', 'Vaihai', 'John'}\n",
      "the athletes who participated only in 200m: {'Vetry', 'Petter', 'Priyanka'}\n",
      "the athletes who participated in both: {'Malar', 'Kumar'}\n",
      "the athletes who participated only in one race: {'Petter', 'Priyanka', 'John', 'Vetry', 'Rajesh', 'Vaihai', 'Vikay'}\n"
     ]
    }
   ],
   "source": [
    "#Q10\n",
    "hundred_meters = {'Vikay','John','Kumar','Rajesh','Malar','Vaihai'}\n",
    "two_hundred_meters = {'Vetry','Petter','Priyanka','Kumar','Malar'}\n",
    "\n",
    "race_100m=hundred_meters.difference(two_hundred_meters)\n",
    "print(\"the athletes who participated only in 100m:\",race_100m)\n",
    "race_200m=two_hundred_meters.difference(hundred_meters)\n",
    "print(\"the athletes who participated only in 200m:\",race_200m)\n",
    "race_both= hundred_meters.intersection(two_hundred_meters)\n",
    "print(\"the athletes who participated in both:\",race_both)\n",
    "race_one=hundred_meters.symmetric_difference(two_hundred_meters)\n",
    "print(\"the athletes who participated only in one race:\",race_one)"
   ]
  },
  {
   "cell_type": "code",
   "execution_count": 14,
   "id": "e422809d-37cc-432f-9628-20ac5939d582",
   "metadata": {},
   "outputs": [
    {
     "name": "stdout",
     "output_type": "stream",
     "text": [
      "Duplicate numbers: [3, 5, 3, 18, 2]\n"
     ]
    }
   ],
   "source": [
    "#Q11\n",
    "my_list = [5, 8, 4, 18, 8, 55, 6, 8, 3, 18, 5, 3, 44]\n",
    "y=set()\n",
    "duplicate_numbers = []\n",
    "for i in my_list:\n",
    "    if(i in y):\n",
    "      duplicate_numbers.append(i)\n",
    "    else:\n",
    "        y.add(i)\n",
    "\n",
    "print(\"Duplicate numbers:\", duplicate_numbers)"
   ]
  },
  {
   "cell_type": "code",
   "execution_count": 12,
   "id": "94016e32-7bcc-4857-827e-ee743367be4a",
   "metadata": {},
   "outputs": [
    {
     "name": "stdout",
     "output_type": "stream",
     "text": [
      "['snack', 'crocodile', 'zebra', 'lion', 'tiger', 'cat']\n"
     ]
    }
   ],
   "source": [
    "#Q12\n",
    "list = [\"cat\",\"tiger\",\"lion\", \"zebra\" , \"crocodile\", \"snack\"]\n",
    "reverselist=[]\n",
    "for i in list:\n",
    "    reverselist.insert(0,i)\n",
    "\n",
    "print(reverselist)"
   ]
  },
  {
   "cell_type": "code",
   "execution_count": null,
   "id": "13420f5a-428c-4dfe-8d43-1bd133e1c12a",
   "metadata": {},
   "outputs": [],
   "source": []
  }
 ],
 "metadata": {
  "kernelspec": {
   "display_name": "Python 3 (ipykernel)",
   "language": "python",
   "name": "python3"
  },
  "language_info": {
   "codemirror_mode": {
    "name": "ipython",
    "version": 3
   },
   "file_extension": ".py",
   "mimetype": "text/x-python",
   "name": "python",
   "nbconvert_exporter": "python",
   "pygments_lexer": "ipython3",
   "version": "3.10.11"
  }
 },
 "nbformat": 4,
 "nbformat_minor": 5
}
