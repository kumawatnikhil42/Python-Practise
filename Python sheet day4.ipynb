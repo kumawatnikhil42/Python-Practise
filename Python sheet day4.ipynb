{
 "cells": [
  {
   "cell_type": "code",
   "execution_count": 7,
   "id": "8f0d5ed8-bcaf-4b51-a7bd-84681f56801d",
   "metadata": {},
   "outputs": [
    {
     "name": "stdout",
     "output_type": "stream",
     "text": [
      "[69.80000000000001, 73.4, 64.4, 71.6, 66.2, 93.2, 75.2, 95.0]\n"
     ]
    }
   ],
   "source": [
    "#Q1\n",
    "Amount = [21,23,18,22,19,34,24,35]\n",
    "convert=list(map(lambda x:(x*1.8)+32,Amount))\n",
    "print(convert)"
   ]
  },
  {
   "cell_type": "code",
   "execution_count": 22,
   "id": "e2f46381-b2b1-4ca5-b48b-73d20419a8e9",
   "metadata": {},
   "outputs": [
    {
     "name": "stdout",
     "output_type": "stream",
     "text": [
      "[4000, 5, 8, 95]\n"
     ]
    }
   ],
   "source": [
    "#Q2\n",
    "sequence=[25, 28,26,4000,27, 31, 5,28,29,30,34,8,32,33, 35, 32,37,36, 40,38,39, 95]\n",
    "remove=list(filter(lambda x:x<25 or x>40,sequence))\n",
    "print(remove)"
   ]
  },
  {
   "cell_type": "code",
   "execution_count": 2,
   "id": "ecfa236e-4910-4b13-8695-e973e2dc828f",
   "metadata": {},
   "outputs": [
    {
     "name": "stdout",
     "output_type": "stream",
     "text": [
      "list without duplicate [3, 5, 2, 6, 8, 18, 44, 21, 4]\n"
     ]
    }
   ],
   "source": [
    "#Q4\n",
    "list = [3,5,2,6,8,3,18,5,3,44,21,4,18,2]\n",
    "y=[]\n",
    "duplicate=[]\n",
    "for i in list:\n",
    "    if(i in y):\n",
    "        duplicate.append(i)\n",
    "    else:\n",
    "        y.append(i)\n",
    "print(\"list without duplicate\",y)"
   ]
  },
  {
   "cell_type": "code",
   "execution_count": 14,
   "id": "ee510771-aa04-405f-abec-9c3282598978",
   "metadata": {},
   "outputs": [
    {
     "name": "stdin",
     "output_type": "stream",
     "text": [
      "enter no. 1234567345\n"
     ]
    },
    {
     "name": "stdout",
     "output_type": "stream",
     "text": [
      "['1', '2', '3', '4', '5', '6', '7']\n"
     ]
    }
   ],
   "source": [
    "## Q5\n",
    "list=[]\n",
    "list1=[]\n",
    "s=input(\"enter no.\")\n",
    "for i in s:\n",
    "    if(i in list):\n",
    "        list1.append(i)\n",
    "    else:\n",
    "        list.append(i)\n",
    "\n",
    "print(list)   \n"
   ]
  },
  {
   "cell_type": "code",
   "execution_count": null,
   "id": "2522c04b-0cf3-49e6-ac93-ec56768fb8b9",
   "metadata": {},
   "outputs": [],
   "source": [
    "# Q6\n",
    "def checkpallindrome(s):\n",
    "    if(s==s[::-1]):\n",
    "        return True\n",
    "    else:\n",
    "        return False\n",
    "checkpallindrome(\"radar\")"
   ]
  },
  {
   "cell_type": "code",
   "execution_count": null,
   "id": "52b0c7f4-a6b3-45e9-8c61-43dbf495fb74",
   "metadata": {},
   "outputs": [],
   "source": []
  }
 ],
 "metadata": {
  "kernelspec": {
   "display_name": "Python 3 (ipykernel)",
   "language": "python",
   "name": "python3"
  },
  "language_info": {
   "codemirror_mode": {
    "name": "ipython",
    "version": 3
   },
   "file_extension": ".py",
   "mimetype": "text/x-python",
   "name": "python",
   "nbconvert_exporter": "python",
   "pygments_lexer": "ipython3",
   "version": "3.10.11"
  }
 },
 "nbformat": 4,
 "nbformat_minor": 5
}
