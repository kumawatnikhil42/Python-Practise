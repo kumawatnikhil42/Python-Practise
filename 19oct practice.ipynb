{
 "cells": [
  {
   "cell_type": "code",
   "execution_count": 3,
   "id": "2bdfac3f-25f8-4def-9fd3-b20b33a1d9a2",
   "metadata": {},
   "outputs": [
    {
     "name": "stdout",
     "output_type": "stream",
     "text": [
      "hello\n",
      "error\n"
     ]
    }
   ],
   "source": [
    "\n",
    "#exceptional handling\n",
    "try:\n",
    "    print(\"hello\")\n",
    "    y/10\n",
    "    print(\"hey\")\n",
    "#Exception is a class\n",
    "except Exception as e:\n",
    "    print(\"error\",e)"
   ]
  },
  {
   "cell_type": "code",
   "execution_count": 9,
   "id": "d4004ff0-1782-4f44-ab16-cc3db7f6fca4",
   "metadata": {},
   "outputs": [
    {
     "name": "stdout",
     "output_type": "stream",
     "text": [
      "hello\n",
      "error name 'y' is not defined\n"
     ]
    }
   ],
   "source": [
    "\n",
    "#exceptional handling\n",
    "try:\n",
    "    print(\"hello\")\n",
    "    y/10\n",
    "    print(\"hey\")\n",
    "#Exception is a class\n",
    "except NameError as e:\n",
    "    print(\"error\",e)\n",
    "except ZeroDivisiorError as e:\n",
    "    print(\"error\",e)"
   ]
  },
  {
   "cell_type": "code",
   "execution_count": 11,
   "id": "685ad93c-5973-4481-9c9e-4d52f7dded83",
   "metadata": {},
   "outputs": [
    {
     "name": "stdout",
     "output_type": "stream",
     "text": [
      "hello\n",
      "error name 'y' is not defined\n"
     ]
    }
   ],
   "source": [
    "\n",
    "#exceptional handling\n",
    "try:\n",
    "    print(\"hello\")\n",
    "    y/10\n",
    "    print(\"hey\")\n",
    "\n",
    "except (NameError,ZeroDivisionError) as e:\n",
    "    print(\"error\",e)\n"
   ]
  },
  {
   "cell_type": "code",
   "execution_count": 12,
   "id": "c6fcb3ba-07d1-4aaf-8a55-613a59116142",
   "metadata": {},
   "outputs": [
    {
     "name": "stdout",
     "output_type": "stream",
     "text": [
      "hello\n",
      "error name 'y' is not defined\n",
      "#####\n"
     ]
    }
   ],
   "source": [
    "\n",
    "#exceptional handling\n",
    "try:\n",
    "    print(\"hello\")\n",
    "    y/10\n",
    "    print(\"hey\")\n",
    "\n",
    "except (NameError,ZeroDivisionError) as e:\n",
    "    print(\"error\",e)\n",
    "#finally print always\n",
    "finally:\n",
    "    print(\"#####\")"
   ]
  },
  {
   "cell_type": "code",
   "execution_count": 14,
   "id": "dfe4f452-4244-43a5-bf53-561c13621c5c",
   "metadata": {},
   "outputs": [
    {
     "name": "stdout",
     "output_type": "stream",
     "text": [
      "hello\n",
      "hey\n",
      "###\n"
     ]
    }
   ],
   "source": [
    "\n",
    "#exceptional handling\n",
    "try:\n",
    "    print(\"hello\")\n",
    "    print(\"hey\")\n",
    "\n",
    "except (NameError,ZeroDivisionError) as e:\n",
    "    print(\"error\",e)\n",
    "#else=> if try has no error then print else block\n",
    "else:\n",
    "    print(\"###\")"
   ]
  },
  {
   "cell_type": "code",
   "execution_count": 29,
   "id": "c5c74e38-ef93-4e43-b61e-cab270ed6b47",
   "metadata": {},
   "outputs": [
    {
     "ename": "ValueError",
     "evalue": "",
     "output_type": "error",
     "traceback": [
      "\u001b[1;31m---------------------------------------------------------------------------\u001b[0m",
      "\u001b[1;31mValueError\u001b[0m                                Traceback (most recent call last)",
      "Cell \u001b[1;32mIn[29], line 4\u001b[0m\n\u001b[0;32m      2\u001b[0m age\u001b[38;5;241m=\u001b[39m\u001b[38;5;241m16\u001b[39m\n\u001b[0;32m      3\u001b[0m \u001b[38;5;28;01mif\u001b[39;00m(age\u001b[38;5;241m<\u001b[39m\u001b[38;5;241m18\u001b[39m):\n\u001b[1;32m----> 4\u001b[0m     \u001b[38;5;28;01mraise\u001b[39;00m \u001b[38;5;167;01mValueError\u001b[39;00m\n",
      "\u001b[1;31mValueError\u001b[0m: "
     ]
    }
   ],
   "source": [
    "#raise keyword=> create error\n",
    "age=16\n",
    "if(age<18):\n",
    "    raise ValueError\n"
   ]
  },
  {
   "cell_type": "code",
   "execution_count": 35,
   "id": "3a9b4097-6ee9-4845-bbcf-9b04545c5f0e",
   "metadata": {},
   "outputs": [
    {
     "name": "stdout",
     "output_type": "stream",
     "text": [
      "[10, 20, 30]\n",
      "[100, 400, 900]\n"
     ]
    }
   ],
   "source": [
    "#list comprehension\n",
    "mylist=[10,20,30]\n",
    "newlist=[i**2 for i in mylist ]\n",
    "print(mylist)\n",
    "print(newlist)"
   ]
  },
  {
   "cell_type": "code",
   "execution_count": 6,
   "id": "43d92b1d-dcfd-45ff-be94-f37835a1e010",
   "metadata": {},
   "outputs": [
    {
     "name": "stdout",
     "output_type": "stream",
     "text": [
      "{40, 10, 35, 20}\n",
      "{10, 35, 20, 45}\n",
      "{10, 35, 20}\n"
     ]
    }
   ],
   "source": [
    "#set comprehension\n",
    "myset1={10,20,35,40}\n",
    "myset2={10,35,20,45}\n",
    "myset3={i for i in myset1.intersection(myset2)}\n",
    "print(myset1)\n",
    "print(myset2)\n",
    "print(myset3)"
   ]
  },
  {
   "cell_type": "code",
   "execution_count": 3,
   "id": "b3c6c4e0-775f-4819-93cb-1c17a0708b6c",
   "metadata": {},
   "outputs": [
    {
     "name": "stdout",
     "output_type": "stream",
     "text": [
      "{1: 400, 2: 1600, 3: 3600}\n"
     ]
    }
   ],
   "source": [
    "#dictionary comprehension\n",
    "dic_={1:20,2:40,3:60}\n",
    "newdic_={i:j**2 for i,j in dic_.items()}\n",
    "print(newdic_)"
   ]
  }
 ],
 "metadata": {
  "kernelspec": {
   "display_name": "Python 3 (ipykernel)",
   "language": "python",
   "name": "python3"
  },
  "language_info": {
   "codemirror_mode": {
    "name": "ipython",
    "version": 3
   },
   "file_extension": ".py",
   "mimetype": "text/x-python",
   "name": "python",
   "nbconvert_exporter": "python",
   "pygments_lexer": "ipython3",
   "version": "3.10.11"
  }
 },
 "nbformat": 4,
 "nbformat_minor": 5
}
