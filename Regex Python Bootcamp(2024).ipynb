{
 "cells": [
  {
   "cell_type": "code",
   "execution_count": 1,
   "id": "f4c18703",
   "metadata": {},
   "outputs": [
    {
     "name": "stdout",
     "output_type": "stream",
     "text": [
      "hello world\n"
     ]
    }
   ],
   "source": [
    "print(\"hello world\")"
   ]
  },
  {
   "cell_type": "code",
   "execution_count": 3,
   "id": "d1fda765",
   "metadata": {},
   "outputs": [
    {
     "name": "stdout",
     "output_type": "stream",
     "text": [
      "hey regex\n"
     ]
    }
   ],
   "source": [
    "print(\"hey\",end=\" \")\n",
    "print(\"regex\")"
   ]
  },
  {
   "cell_type": "code",
   "execution_count": 5,
   "id": "89647b47",
   "metadata": {},
   "outputs": [
    {
     "name": "stdout",
     "output_type": "stream",
     "text": [
      "<class 'int'>\n"
     ]
    }
   ],
   "source": [
    "x=10\n",
    "print(type(x))"
   ]
  },
  {
   "cell_type": "code",
   "execution_count": 6,
   "id": "0ea18d20",
   "metadata": {},
   "outputs": [
    {
     "name": "stdout",
     "output_type": "stream",
     "text": [
      "<class 'str'>\n"
     ]
    }
   ],
   "source": [
    "x=\"10\"\n",
    "print(type(x))"
   ]
  },
  {
   "cell_type": "code",
   "execution_count": 7,
   "id": "85d3b16f",
   "metadata": {},
   "outputs": [
    {
     "data": {
      "text/plain": [
       "'g'"
      ]
     },
     "execution_count": 7,
     "metadata": {},
     "output_type": "execute_result"
    }
   ],
   "source": [
    "# indexing and slicing\n",
    "company = \"regex software\"\n",
    "company[2]"
   ]
  },
  {
   "cell_type": "code",
   "execution_count": 8,
   "id": "dc169711",
   "metadata": {},
   "outputs": [
    {
     "data": {
      "text/plain": [
       "'r'"
      ]
     },
     "execution_count": 8,
     "metadata": {},
     "output_type": "execute_result"
    }
   ],
   "source": [
    "company[-2]"
   ]
  },
  {
   "cell_type": "code",
   "execution_count": 9,
   "id": "1323a6df",
   "metadata": {},
   "outputs": [
    {
     "data": {
      "text/plain": [
       "'regex software'"
      ]
     },
     "execution_count": 9,
     "metadata": {},
     "output_type": "execute_result"
    }
   ],
   "source": [
    "company[0:]"
   ]
  },
  {
   "cell_type": "code",
   "execution_count": 10,
   "id": "f59db556",
   "metadata": {},
   "outputs": [
    {
     "data": {
      "text/plain": [
       "'gex software'"
      ]
     },
     "execution_count": 10,
     "metadata": {},
     "output_type": "execute_result"
    }
   ],
   "source": [
    "company[2:]"
   ]
  },
  {
   "cell_type": "code",
   "execution_count": 12,
   "id": "6c517073",
   "metadata": {},
   "outputs": [
    {
     "data": {
      "text/plain": [
       "'regex'"
      ]
     },
     "execution_count": 12,
     "metadata": {},
     "output_type": "execute_result"
    }
   ],
   "source": [
    "company[0:5]"
   ]
  },
  {
   "cell_type": "code",
   "execution_count": 21,
   "id": "27479f40",
   "metadata": {},
   "outputs": [
    {
     "data": {
      "text/plain": [
       "'erawtfos xeger'"
      ]
     },
     "execution_count": 21,
     "metadata": {},
     "output_type": "execute_result"
    }
   ],
   "source": [
    "company[-1::-1]"
   ]
  },
  {
   "cell_type": "code",
   "execution_count": 24,
   "id": "bef60460",
   "metadata": {},
   "outputs": [
    {
     "name": "stdout",
     "output_type": "stream",
     "text": [
      "hello\n"
     ]
    }
   ],
   "source": [
    "# conditional statement\n",
    "if(True):\n",
    "    print(\"hello\")\n",
    "else:\n",
    "    print(\"world\")\n"
   ]
  },
  {
   "cell_type": "code",
   "execution_count": 26,
   "id": "fd74c069",
   "metadata": {},
   "outputs": [
    {
     "name": "stdout",
     "output_type": "stream",
     "text": [
      "Value is 10\n"
     ]
    }
   ],
   "source": [
    "x=10\n",
    "if(x==20):\n",
    "    print(\"Value is 20\")\n",
    "elif(x==10):\n",
    "    print(\"Value is 10\")\n",
    "else:\n",
    "    print(\"Value is not 20\")"
   ]
  },
  {
   "cell_type": "code",
   "execution_count": 42,
   "id": "2819412c",
   "metadata": {},
   "outputs": [
    {
     "name": "stdout",
     "output_type": "stream",
     "text": [
      "<class 'list'>\n"
     ]
    }
   ],
   "source": [
    "# datatypes:-\n",
    "# list => data is stored based on index, list are mutable datatype.\n",
    "mylist=[10,20,\"regex\",10.0]\n",
    "print(type(mylist))"
   ]
  },
  {
   "cell_type": "code",
   "execution_count": 30,
   "id": "3e0a9dad",
   "metadata": {},
   "outputs": [
    {
     "data": {
      "text/plain": [
       "'regex'"
      ]
     },
     "execution_count": 30,
     "metadata": {},
     "output_type": "execute_result"
    }
   ],
   "source": [
    "mylist[2]"
   ]
  },
  {
   "cell_type": "code",
   "execution_count": 43,
   "id": "4ee9a5f3",
   "metadata": {},
   "outputs": [
    {
     "data": {
      "text/plain": [
       "[10, 20, 'regexsoftware', 10.0]"
      ]
     },
     "execution_count": 43,
     "metadata": {},
     "output_type": "execute_result"
    }
   ],
   "source": [
    "mylist[-2]=\"regexsoftware\"\n",
    "mylist"
   ]
  },
  {
   "cell_type": "code",
   "execution_count": 44,
   "id": "a0971013",
   "metadata": {},
   "outputs": [
    {
     "data": {
      "text/plain": [
       "[10, 20, 'regexsoftware', 10.0, 60]"
      ]
     },
     "execution_count": 44,
     "metadata": {},
     "output_type": "execute_result"
    }
   ],
   "source": [
    "mylist.append(60)# add at last index\n",
    "mylist"
   ]
  },
  {
   "cell_type": "code",
   "execution_count": 45,
   "id": "618dd99f",
   "metadata": {},
   "outputs": [
    {
     "data": {
      "text/plain": [
       "[20, 'regexsoftware', 10.0, 60]"
      ]
     },
     "execution_count": 45,
     "metadata": {},
     "output_type": "execute_result"
    }
   ],
   "source": [
    "mylist.pop(0) # by default last index\n",
    "mylist"
   ]
  },
  {
   "cell_type": "code",
   "execution_count": 46,
   "id": "32e3e2dc",
   "metadata": {},
   "outputs": [
    {
     "data": {
      "text/plain": [
       "[20, 'regexsoftware', 10.0]"
      ]
     },
     "execution_count": 46,
     "metadata": {},
     "output_type": "execute_result"
    }
   ],
   "source": [
    "mylist.remove(60)\n",
    "mylist"
   ]
  },
  {
   "cell_type": "code",
   "execution_count": 47,
   "id": "c17f7718",
   "metadata": {},
   "outputs": [
    {
     "data": {
      "text/plain": [
       "[10, 20, 'regexsoftware', 10.0]"
      ]
     },
     "execution_count": 47,
     "metadata": {},
     "output_type": "execute_result"
    }
   ],
   "source": [
    "mylist.insert(0,10)\n",
    "mylist"
   ]
  },
  {
   "cell_type": "code",
   "execution_count": 49,
   "id": "d98c8fe2",
   "metadata": {},
   "outputs": [
    {
     "data": {
      "text/plain": [
       "(10, 20, 30, 'abc')"
      ]
     },
     "execution_count": 49,
     "metadata": {},
     "output_type": "execute_result"
    }
   ],
   "source": [
    "# tuple => immutable datatype\n",
    "mytuple=(10,20,30,\"abc\")\n",
    "mytuple"
   ]
  },
  {
   "cell_type": "code",
   "execution_count": 51,
   "id": "048e73cd",
   "metadata": {},
   "outputs": [],
   "source": [
    "# help(mytuple)"
   ]
  },
  {
   "cell_type": "code",
   "execution_count": 54,
   "id": "069fc842",
   "metadata": {},
   "outputs": [
    {
     "data": {
      "text/plain": [
       "{7: 'nikhil', 10: 'aman', 11: 'aditya'}"
      ]
     },
     "execution_count": 54,
     "metadata": {},
     "output_type": "execute_result"
    }
   ],
   "source": [
    "# dictionary => data stores as key:value pair,immutable datatype\n",
    "# keys are unique identifier\n",
    "# in python 3 data stored in ordered\n",
    "mydict={7:\"nikhil\",10:\"aman\",11:\"aditya\"}\n",
    "mydict"
   ]
  },
  {
   "cell_type": "code",
   "execution_count": 60,
   "id": "b1eaf3b9",
   "metadata": {},
   "outputs": [
    {
     "data": {
      "text/plain": [
       "'aman'"
      ]
     },
     "execution_count": 60,
     "metadata": {},
     "output_type": "execute_result"
    }
   ],
   "source": [
    "mydict[10]"
   ]
  },
  {
   "cell_type": "code",
   "execution_count": 61,
   "id": "d27fbd03",
   "metadata": {},
   "outputs": [
    {
     "data": {
      "text/plain": [
       "{7: 'nikhil', 10: 'aman sharma', 11: 'aditya'}"
      ]
     },
     "execution_count": 61,
     "metadata": {},
     "output_type": "execute_result"
    }
   ],
   "source": [
    "mydict[10]=\"aman sharma\"\n",
    "mydict"
   ]
  },
  {
   "cell_type": "code",
   "execution_count": 62,
   "id": "2525075b",
   "metadata": {},
   "outputs": [
    {
     "data": {
      "text/plain": [
       "{7: 'nikhil', 10: 'aman sharma', 11: 'aditya', 22: 'naina'}"
      ]
     },
     "execution_count": 62,
     "metadata": {},
     "output_type": "execute_result"
    }
   ],
   "source": [
    "mydict[22]=\"naina\"\n",
    "mydict"
   ]
  },
  {
   "cell_type": "code",
   "execution_count": 63,
   "id": "716e894f",
   "metadata": {},
   "outputs": [
    {
     "data": {
      "text/plain": [
       "{7: 'nikhil', 10: 'aman sharma', 22: 'naina'}"
      ]
     },
     "execution_count": 63,
     "metadata": {},
     "output_type": "execute_result"
    }
   ],
   "source": [
    "mydict.pop(11)\n",
    "mydict"
   ]
  },
  {
   "cell_type": "code",
   "execution_count": 64,
   "id": "c28725e1",
   "metadata": {},
   "outputs": [],
   "source": [
    "# functions => set of statements which we reuse multiple time\n",
    "def workshop():\n",
    "    print(\"hey welcome to the workshop\")"
   ]
  },
  {
   "cell_type": "code",
   "execution_count": 65,
   "id": "b346dfaf",
   "metadata": {},
   "outputs": [
    {
     "name": "stdout",
     "output_type": "stream",
     "text": [
      "hey welcome to the workshop\n"
     ]
    }
   ],
   "source": [
    "workshop()"
   ]
  },
  {
   "cell_type": "code",
   "execution_count": 81,
   "id": "60a41df9",
   "metadata": {},
   "outputs": [],
   "source": [
    "def workshop(name):\n",
    "    print(\"hey\",name,\"welcome to the workshop\")"
   ]
  },
  {
   "cell_type": "code",
   "execution_count": 82,
   "id": "47724e61",
   "metadata": {},
   "outputs": [
    {
     "name": "stdout",
     "output_type": "stream",
     "text": [
      "hey nikhil welcome to the workshop\n",
      "hey ajay welcome to the workshop\n"
     ]
    }
   ],
   "source": [
    "workshop(\"nikhil\")\n",
    "workshop(\"ajay\")"
   ]
  },
  {
   "cell_type": "code",
   "execution_count": 83,
   "id": "c6a2af8a",
   "metadata": {},
   "outputs": [],
   "source": [
    "def workshop(name):\n",
    "    return \"hey\",name,\"welcome to the workshop\""
   ]
  },
  {
   "cell_type": "code",
   "execution_count": 84,
   "id": "660cf391",
   "metadata": {},
   "outputs": [
    {
     "name": "stdout",
     "output_type": "stream",
     "text": [
      "('hey', 'arun', 'welcome to the workshop')\n"
     ]
    }
   ],
   "source": [
    "print(workshop(\"arun\"))"
   ]
  },
  {
   "cell_type": "markdown",
   "id": "57f38c13",
   "metadata": {},
   "source": [
    "# NumPy:- \n",
    "NumPy is python library used for working with arrays.\n",
    "\n",
    "It provides a high-performance multidimensional array object and tools for working with these arrays Mathematical functions for fast operations on entire arrays of data having to write loops.\n",
    "\n",
    "Numpy are approx 10 to 100 time faster than list."
   ]
  },
  {
   "cell_type": "code",
   "execution_count": 85,
   "id": "1c627c62",
   "metadata": {},
   "outputs": [],
   "source": [
    "# !pip install numpy"
   ]
  },
  {
   "cell_type": "code",
   "execution_count": 90,
   "id": "5454635f",
   "metadata": {},
   "outputs": [
    {
     "name": "stdout",
     "output_type": "stream",
     "text": [
      "[0 1 2 3 4 5 6 7 8 9]\n"
     ]
    }
   ],
   "source": [
    "import numpy as np\n",
    "arr1=np.arange(10) # create array in a range\n",
    "print(arr1)"
   ]
  },
  {
   "cell_type": "code",
   "execution_count": 92,
   "id": "346d2467",
   "metadata": {},
   "outputs": [],
   "source": [
    "my_arr=np.arange(10000)\n",
    "my_list=list(range(10000))"
   ]
  },
  {
   "cell_type": "code",
   "execution_count": 94,
   "id": "ef31f043",
   "metadata": {},
   "outputs": [],
   "source": [
    "# my_list"
   ]
  },
  {
   "cell_type": "code",
   "execution_count": 95,
   "id": "f6c722c4",
   "metadata": {},
   "outputs": [
    {
     "data": {
      "text/plain": [
       "array([ 1,  2,  3,  4,  5,  6,  7,  8,  9, 10])"
      ]
     },
     "execution_count": 95,
     "metadata": {},
     "output_type": "execute_result"
    }
   ],
   "source": [
    "arr1+1"
   ]
  },
  {
   "cell_type": "code",
   "execution_count": 96,
   "id": "a0b43727",
   "metadata": {},
   "outputs": [
    {
     "data": {
      "text/plain": [
       "array([ 2,  3,  4,  5,  6,  7,  8,  9, 10, 11])"
      ]
     },
     "execution_count": 96,
     "metadata": {},
     "output_type": "execute_result"
    }
   ],
   "source": [
    "arr1+2"
   ]
  },
  {
   "cell_type": "code",
   "execution_count": 101,
   "id": "f2557d0d",
   "metadata": {},
   "outputs": [
    {
     "name": "stdout",
     "output_type": "stream",
     "text": [
      "10.1 µs ± 270 ns per loop (mean ± std. dev. of 7 runs, 100,000 loops each)\n"
     ]
    }
   ],
   "source": [
    "%timeit my_arr+10 # to check time of running"
   ]
  },
  {
   "cell_type": "code",
   "execution_count": 102,
   "id": "75466a52",
   "metadata": {},
   "outputs": [
    {
     "name": "stdout",
     "output_type": "stream",
     "text": [
      "724 µs ± 42.7 µs per loop (mean ± std. dev. of 7 runs, 1,000 loops each)\n"
     ]
    }
   ],
   "source": [
    "%timeit my_list2=[x+10 for x in my_list]"
   ]
  },
  {
   "cell_type": "code",
   "execution_count": 104,
   "id": "ffd8e8e2",
   "metadata": {},
   "outputs": [
    {
     "data": {
      "text/plain": [
       "1"
      ]
     },
     "execution_count": 104,
     "metadata": {},
     "output_type": "execute_result"
    }
   ],
   "source": [
    "arr1.ndim # dimension"
   ]
  },
  {
   "cell_type": "code",
   "execution_count": 105,
   "id": "4e1f0e73",
   "metadata": {},
   "outputs": [
    {
     "data": {
      "text/plain": [
       "10"
      ]
     },
     "execution_count": 105,
     "metadata": {},
     "output_type": "execute_result"
    }
   ],
   "source": [
    "arr1.size # total elements"
   ]
  },
  {
   "cell_type": "code",
   "execution_count": 106,
   "id": "fde30fea",
   "metadata": {},
   "outputs": [
    {
     "data": {
      "text/plain": [
       "(10,)"
      ]
     },
     "execution_count": 106,
     "metadata": {},
     "output_type": "execute_result"
    }
   ],
   "source": [
    "arr1.shape # rows and columns"
   ]
  },
  {
   "cell_type": "code",
   "execution_count": 117,
   "id": "f30123d3",
   "metadata": {},
   "outputs": [
    {
     "data": {
      "text/plain": [
       "array([[1, 2, 3],\n",
       "       [3, 4, 5]])"
      ]
     },
     "execution_count": 117,
     "metadata": {},
     "output_type": "execute_result"
    }
   ],
   "source": [
    "data2 = [[1,2,3],[3,4,5]]\n",
    "arr2 = np.array(data2)\n",
    "arr2"
   ]
  },
  {
   "cell_type": "code",
   "execution_count": 118,
   "id": "f3cc2719",
   "metadata": {},
   "outputs": [
    {
     "data": {
      "text/plain": [
       "2"
      ]
     },
     "execution_count": 118,
     "metadata": {},
     "output_type": "execute_result"
    }
   ],
   "source": [
    "arr2.ndim"
   ]
  },
  {
   "cell_type": "code",
   "execution_count": 135,
   "id": "cd0a2618",
   "metadata": {},
   "outputs": [
    {
     "data": {
      "text/plain": [
       "(2, 3)"
      ]
     },
     "execution_count": 135,
     "metadata": {},
     "output_type": "execute_result"
    }
   ],
   "source": [
    "arr2.shape"
   ]
  },
  {
   "cell_type": "code",
   "execution_count": 120,
   "id": "3b15b69b",
   "metadata": {},
   "outputs": [
    {
     "data": {
      "text/plain": [
       "2"
      ]
     },
     "execution_count": 120,
     "metadata": {},
     "output_type": "execute_result"
    }
   ],
   "source": [
    "arr2[0][1]"
   ]
  },
  {
   "cell_type": "code",
   "execution_count": 121,
   "id": "1b3a15a9",
   "metadata": {},
   "outputs": [
    {
     "data": {
      "text/plain": [
       "3"
      ]
     },
     "execution_count": 121,
     "metadata": {},
     "output_type": "execute_result"
    }
   ],
   "source": [
    "arr2[1][0]"
   ]
  },
  {
   "cell_type": "code",
   "execution_count": 122,
   "id": "e0aacf71",
   "metadata": {},
   "outputs": [
    {
     "data": {
      "text/plain": [
       "array([1, 2])"
      ]
     },
     "execution_count": 122,
     "metadata": {},
     "output_type": "execute_result"
    }
   ],
   "source": [
    "arr2[0][0:2]"
   ]
  },
  {
   "cell_type": "code",
   "execution_count": 125,
   "id": "5916e826",
   "metadata": {},
   "outputs": [
    {
     "data": {
      "text/plain": [
       "dtype('int32')"
      ]
     },
     "execution_count": 125,
     "metadata": {},
     "output_type": "execute_result"
    }
   ],
   "source": [
    "arr2.dtype"
   ]
  },
  {
   "cell_type": "code",
   "execution_count": 126,
   "id": "412efc4b",
   "metadata": {},
   "outputs": [
    {
     "data": {
      "text/plain": [
       "dtype('float64')"
      ]
     },
     "execution_count": 126,
     "metadata": {},
     "output_type": "execute_result"
    }
   ],
   "source": [
    "arr3=np.array([1.2,-2.3,4.3])\n",
    "arr3.dtype  # check datatype"
   ]
  },
  {
   "cell_type": "code",
   "execution_count": 129,
   "id": "28c521b2",
   "metadata": {},
   "outputs": [
    {
     "data": {
      "text/plain": [
       "array([ 1, -2,  4])"
      ]
     },
     "execution_count": 129,
     "metadata": {},
     "output_type": "execute_result"
    }
   ],
   "source": [
    "arr3.astype(np.int32) # change datatype"
   ]
  },
  {
   "cell_type": "code",
   "execution_count": 130,
   "id": "401c562e",
   "metadata": {},
   "outputs": [
    {
     "data": {
      "text/plain": [
       "array([ 1.2, -2.3])"
      ]
     },
     "execution_count": 130,
     "metadata": {},
     "output_type": "execute_result"
    }
   ],
   "source": [
    "arr3[0:2]"
   ]
  },
  {
   "cell_type": "code",
   "execution_count": 131,
   "id": "2a4c78b1",
   "metadata": {},
   "outputs": [
    {
     "data": {
      "text/plain": [
       "array([30.89, -2.3 ,  4.3 ])"
      ]
     },
     "execution_count": 131,
     "metadata": {},
     "output_type": "execute_result"
    }
   ],
   "source": [
    "arr3[0]=30.89\n",
    "arr3"
   ]
  },
  {
   "cell_type": "markdown",
   "id": "68db2d87",
   "metadata": {},
   "source": [
    "# Pandas:-\n",
    "Most powerful library for data manipulation, data cleaning, data transforming.\n",
    "\n",
    "Series => single dimension array of value\n",
    "\n",
    "DataFrame => collection of series values\n"
   ]
  },
  {
   "cell_type": "code",
   "execution_count": 136,
   "id": "2a5019d3",
   "metadata": {},
   "outputs": [],
   "source": [
    "# !pip install pandas"
   ]
  },
  {
   "cell_type": "code",
   "execution_count": 140,
   "id": "00658c39",
   "metadata": {},
   "outputs": [
    {
     "data": {
      "text/plain": [
       "0    10\n",
       "1    20\n",
       "2    30\n",
       "dtype: int64"
      ]
     },
     "execution_count": 140,
     "metadata": {},
     "output_type": "execute_result"
    }
   ],
   "source": [
    "import pandas as pd\n",
    "\n",
    "product=[\"mobile\",\"tv\",\"laptop\"]\n",
    "product1=[10,20,30]\n",
    "pd.Series(product1)"
   ]
  },
  {
   "cell_type": "code",
   "execution_count": 141,
   "id": "f3a4048e",
   "metadata": {},
   "outputs": [
    {
     "data": {
      "text/plain": [
       "numpy.ndarray"
      ]
     },
     "execution_count": 141,
     "metadata": {},
     "output_type": "execute_result"
    }
   ],
   "source": [
    "array1=np.array([10,20,30,100])\n",
    "type(array1)"
   ]
  },
  {
   "cell_type": "code",
   "execution_count": 144,
   "id": "547dbd6f",
   "metadata": {},
   "outputs": [],
   "source": [
    "product_series=pd.Series(array1)"
   ]
  },
  {
   "cell_type": "code",
   "execution_count": 145,
   "id": "780006f1",
   "metadata": {},
   "outputs": [
    {
     "data": {
      "text/plain": [
       "dtype('int32')"
      ]
     },
     "execution_count": 145,
     "metadata": {},
     "output_type": "execute_result"
    }
   ],
   "source": [
    "product_series.dtype"
   ]
  },
  {
   "cell_type": "code",
   "execution_count": 146,
   "id": "caaa122c",
   "metadata": {},
   "outputs": [
    {
     "data": {
      "text/plain": [
       "4"
      ]
     },
     "execution_count": 146,
     "metadata": {},
     "output_type": "execute_result"
    }
   ],
   "source": [
    "product_series.size"
   ]
  },
  {
   "cell_type": "code",
   "execution_count": 150,
   "id": "f7f58772",
   "metadata": {},
   "outputs": [
    {
     "data": {
      "text/plain": [
       "0     10\n",
       "1     20\n",
       "2     30\n",
       "3    100\n",
       "Name: regexworkshop, dtype: int32"
      ]
     },
     "execution_count": 150,
     "metadata": {},
     "output_type": "execute_result"
    }
   ],
   "source": [
    "product_series.name=\"regexworkshop\"\n",
    "product_series"
   ]
  },
  {
   "cell_type": "code",
   "execution_count": 151,
   "id": "f0dd6824",
   "metadata": {},
   "outputs": [
    {
     "data": {
      "text/plain": [
       "True"
      ]
     },
     "execution_count": 151,
     "metadata": {},
     "output_type": "execute_result"
    }
   ],
   "source": [
    "product_series.is_unique # unique values"
   ]
  },
  {
   "cell_type": "code",
   "execution_count": 152,
   "id": "19c08476",
   "metadata": {},
   "outputs": [
    {
     "data": {
      "text/plain": [
       "a    10\n",
       "b    20\n",
       "dtype: int64"
      ]
     },
     "execution_count": 152,
     "metadata": {},
     "output_type": "execute_result"
    }
   ],
   "source": [
    "my_dict={\"a\":10,\"b\":20}\n",
    "pd.Series(my_dict)"
   ]
  },
  {
   "cell_type": "code",
   "execution_count": 157,
   "id": "0185eebc",
   "metadata": {},
   "outputs": [
    {
     "data": {
      "text/html": [
       "<div>\n",
       "<style scoped>\n",
       "    .dataframe tbody tr th:only-of-type {\n",
       "        vertical-align: middle;\n",
       "    }\n",
       "\n",
       "    .dataframe tbody tr th {\n",
       "        vertical-align: top;\n",
       "    }\n",
       "\n",
       "    .dataframe thead th {\n",
       "        text-align: right;\n",
       "    }\n",
       "</style>\n",
       "<table border=\"1\" class=\"dataframe\">\n",
       "  <thead>\n",
       "    <tr style=\"text-align: right;\">\n",
       "      <th></th>\n",
       "      <th>Product</th>\n",
       "      <th>Price</th>\n",
       "    </tr>\n",
       "  </thead>\n",
       "  <tbody>\n",
       "    <tr>\n",
       "      <th>0</th>\n",
       "      <td>Mobile</td>\n",
       "      <td>6000</td>\n",
       "    </tr>\n",
       "    <tr>\n",
       "      <th>1</th>\n",
       "      <td>Tv</td>\n",
       "      <td>8000</td>\n",
       "    </tr>\n",
       "    <tr>\n",
       "      <th>2</th>\n",
       "      <td>Laptop</td>\n",
       "      <td>8000</td>\n",
       "    </tr>\n",
       "  </tbody>\n",
       "</table>\n",
       "</div>"
      ],
      "text/plain": [
       "  Product  Price\n",
       "0  Mobile   6000\n",
       "1      Tv   8000\n",
       "2  Laptop   8000"
      ]
     },
     "execution_count": 157,
     "metadata": {},
     "output_type": "execute_result"
    }
   ],
   "source": [
    "data2={\"Product\":[\"Mobile\",\"Tv\",\"Laptop\"],\"Price\":[6000,8000,8000]}\n",
    "df=pd.DataFrame(data2)\n",
    "df"
   ]
  },
  {
   "cell_type": "code",
   "execution_count": 158,
   "id": "3627b2ee",
   "metadata": {},
   "outputs": [
    {
     "data": {
      "text/plain": [
       "22000"
      ]
     },
     "execution_count": 158,
     "metadata": {},
     "output_type": "execute_result"
    }
   ],
   "source": [
    "df[\"Price\"].sum()"
   ]
  },
  {
   "cell_type": "code",
   "execution_count": 159,
   "id": "725586bb",
   "metadata": {},
   "outputs": [
    {
     "data": {
      "text/plain": [
       "Price\n",
       "8000    2\n",
       "6000    1\n",
       "Name: count, dtype: int64"
      ]
     },
     "execution_count": 159,
     "metadata": {},
     "output_type": "execute_result"
    }
   ],
   "source": [
    "df[\"Price\"].value_counts()"
   ]
  },
  {
   "cell_type": "markdown",
   "id": "2017a72d",
   "metadata": {},
   "source": [
    "# Project:-"
   ]
  },
  {
   "cell_type": "code",
   "execution_count": null,
   "id": "d67d73b0",
   "metadata": {},
   "outputs": [],
   "source": []
  }
 ],
 "metadata": {
  "kernelspec": {
   "display_name": "Python 3 (ipykernel)",
   "language": "python",
   "name": "python3"
  },
  "language_info": {
   "codemirror_mode": {
    "name": "ipython",
    "version": 3
   },
   "file_extension": ".py",
   "mimetype": "text/x-python",
   "name": "python",
   "nbconvert_exporter": "python",
   "pygments_lexer": "ipython3",
   "version": "3.11.5"
  }
 },
 "nbformat": 4,
 "nbformat_minor": 5
}
