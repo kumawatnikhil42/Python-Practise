{
 "cells": [
  {
   "cell_type": "code",
   "execution_count": 2,
   "id": "5af0e53d-3ebe-4a49-988f-a0c9f51c68f4",
   "metadata": {},
   "outputs": [],
   "source": [
    "#class and object=>\n",
    "#class=> it is a blueprint of object and collection of objects"
   ]
  },
  {
   "cell_type": "code",
   "execution_count": 9,
   "id": "2bd2507e-c181-4bbf-abe6-eba8735e9fcf",
   "metadata": {},
   "outputs": [
    {
     "name": "stdout",
     "output_type": "stream",
     "text": [
      "4\n",
      "2\n",
      "this is my house\n"
     ]
    }
   ],
   "source": [
    "class House():\n",
    "    room=4\n",
    "    kitchen=2\n",
    "    def houseinfo(self):\n",
    "        return \"this is my house\"\n",
    "h1=House()\n",
    "print(h1.room)\n",
    "print(h1.kitchen)\n",
    "print(h1.houseinfo())"
   ]
  },
  {
   "cell_type": "code",
   "execution_count": 16,
   "id": "4c64d777-5642-4f9b-befe-c46fa5029250",
   "metadata": {},
   "outputs": [
    {
     "name": "stdout",
     "output_type": "stream",
     "text": [
      "house have 4 rooms and 2 kitchens\n"
     ]
    }
   ],
   "source": [
    "class House():\n",
    "    def __init__(self,no_room,no_kitchen):\n",
    "        self.no_room=no_room\n",
    "        self.no_kitchen=no_kitchen\n",
    "    def houseinfo(self):\n",
    "        print(f\"house have {self.no_room} rooms and {self.no_kitchen} kitchens\")\n",
    "\n",
    "h1=House(4,2)\n",
    "h1.houseinfo()"
   ]
  },
  {
   "cell_type": "code",
   "execution_count": 38,
   "id": "326805d7-da75-4375-9f0d-b5e33ed3ab84",
   "metadata": {},
   "outputs": [
    {
     "name": "stdout",
     "output_type": "stream",
     "text": [
      "Father have 1 cars and 2 house\n"
     ]
    }
   ],
   "source": [
    "#inheritence=>\n",
    "class Father():\n",
    "    def __init__(self,cars,house):\n",
    "        self.cars=cars\n",
    "        self.house=house\n",
    "    def info(self):\n",
    "        print(f\"Father have {self.cars} cars and {self.house} house\")\n",
    "class Child(Father):\n",
    "    def __init__(self,cars,house,bikes):\n",
    "        self.bikes=bikes\n",
    "        super().__init__(cars,house)\n",
    "        \n",
    "s1=Child(1,2,3)\n",
    "s1.info()       "
   ]
  },
  {
   "cell_type": "code",
   "execution_count": null,
   "id": "360012d4-2925-48e9-b0fa-0606cb7bbab1",
   "metadata": {},
   "outputs": [],
   "source": []
  }
 ],
 "metadata": {
  "kernelspec": {
   "display_name": "Python 3 (ipykernel)",
   "language": "python",
   "name": "python3"
  },
  "language_info": {
   "codemirror_mode": {
    "name": "ipython",
    "version": 3
   },
   "file_extension": ".py",
   "mimetype": "text/x-python",
   "name": "python",
   "nbconvert_exporter": "python",
   "pygments_lexer": "ipython3",
   "version": "3.10.11"
  }
 },
 "nbformat": 4,
 "nbformat_minor": 5
}
