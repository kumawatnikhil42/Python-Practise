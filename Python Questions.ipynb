{
 "cells": [
  {
   "cell_type": "code",
   "execution_count": 7,
   "id": "caf12e2a",
   "metadata": {},
   "outputs": [
    {
     "name": "stdout",
     "output_type": "stream",
     "text": [
      "Enter Text: teet\n",
      "Text is pallindrome\n"
     ]
    }
   ],
   "source": [
    "# string pallindrome\n",
    "\n",
    "def str_pall(text):\n",
    "    mid=(len(text)-1)//2\n",
    "    flag=0\n",
    "    for start in range(0,mid+1):\n",
    "        if text[start]!=text[len(text)-1-start]:\n",
    "            flag=1\n",
    "            break\n",
    "            \n",
    "    if flag==0:\n",
    "        print(\"Text is pallindrome\")\n",
    "    else:\n",
    "        print(\"Text is not pallindrome\")\n",
    "    \n",
    "text=input(\"Enter Text: \")    \n",
    "str_pall(text)\n",
    "    "
   ]
  },
  {
   "cell_type": "code",
   "execution_count": 98,
   "id": "50f22dc5",
   "metadata": {},
   "outputs": [
    {
     "name": "stdout",
     "output_type": "stream",
     "text": [
      "Enter number: 123321\n",
      "pallindrome\n"
     ]
    }
   ],
   "source": [
    "# pallindrome number\n",
    "num=int(input(\"Enter number: \"))\n",
    "b=str(num)\n",
    "s=num\n",
    "k=0\n",
    "for i in range(0,len(b)):\n",
    "    n=num%10\n",
    "    k=(k*10)+n\n",
    "    num=num//10\n",
    "if s==k:\n",
    "    print(\"pallindrome\")\n",
    "else:\n",
    "    print(\"not pallindrome\")"
   ]
  },
  {
   "cell_type": "code",
   "execution_count": 85,
   "id": "f84c5f7b",
   "metadata": {},
   "outputs": [
    {
     "name": "stdout",
     "output_type": "stream",
     "text": [
      "Enter number: 23133534\n",
      "not prime\n"
     ]
    }
   ],
   "source": [
    "# prime number\n",
    "num=int(input(\"Enter number: \"))\n",
    "if num==1:\n",
    "    print(\"not prime\")\n",
    "else:\n",
    "    n=True\n",
    "    for i in range(2,num):\n",
    "        if(num%i==0):\n",
    "            n=False\n",
    "            break\n",
    "            \n",
    "    if(n==True):\n",
    "        print(\"Prime\")\n",
    "    else:\n",
    "        print(\"not prime\")\n"
   ]
  },
  {
   "cell_type": "code",
   "execution_count": 75,
   "id": "f2f15165",
   "metadata": {},
   "outputs": [
    {
     "name": "stdout",
     "output_type": "stream",
     "text": [
      "Enter number: 153\n",
      "yes\n"
     ]
    }
   ],
   "source": [
    "# armstrong Number\n",
    "num=int(input(\"Enter number: \"))\n",
    "b=len(str(num))\n",
    "s=num\n",
    "sum1=0\n",
    "while num!=0:\n",
    "    n=num%10\n",
    "    sum1=sum1+(n**b)\n",
    "    num=num//10\n",
    "if sum1==s:\n",
    "    print(\"yes\")\n",
    "else:\n",
    "    print(\"no\")\n",
    "    "
   ]
  },
  {
   "cell_type": "code",
   "execution_count": 14,
   "id": "a4e507a8",
   "metadata": {},
   "outputs": [
    {
     "name": "stdout",
     "output_type": "stream",
     "text": [
      "* * * *  \n",
      "* * * *  \n",
      "* * * *  \n",
      "* * * *  \n"
     ]
    }
   ],
   "source": [
    "for i in range(1,5):\n",
    "    for j in range(1,5):\n",
    "        print(\"*\",end=\" \")\n",
    "    print(\" \")"
   ]
  },
  {
   "cell_type": "code",
   "execution_count": 40,
   "id": "67e1f5ab",
   "metadata": {},
   "outputs": [
    {
     "name": "stdout",
     "output_type": "stream",
     "text": [
      "*  \n",
      "* *  \n",
      "*   *  \n",
      "*     *  \n",
      "* * * * *  \n"
     ]
    }
   ],
   "source": [
    "for i in range(1,6):\n",
    "  \n",
    "    for j in range(1,i+1):\n",
    "        if (i==5 or j==1 or i==j):\n",
    "            print(\"*\",end=\" \")\n",
    "        else:\n",
    "            print(\" \",end=\" \")\n",
    "    print(\" \")"
   ]
  },
  {
   "cell_type": "code",
   "execution_count": 53,
   "id": "c99219b6",
   "metadata": {},
   "outputs": [
    {
     "name": "stdout",
     "output_type": "stream",
     "text": [
      "* * * *  \n",
      "* * *  \n",
      "* *  \n",
      "*  \n"
     ]
    }
   ],
   "source": [
    "for i in range(1,5):\n",
    "    for s in range(4,i-1,-1):\n",
    "        print(\"*\",end=\" \")\n",
    "    print(\" \")\n"
   ]
  },
  {
   "cell_type": "code",
   "execution_count": 59,
   "id": "d9cc5f8f",
   "metadata": {},
   "outputs": [
    {
     "name": "stdout",
     "output_type": "stream",
     "text": [
      "    * \n",
      "   ** \n",
      "  *** \n",
      " **** \n"
     ]
    }
   ],
   "source": [
    "for i in range(1,5):\n",
    "    for s in range(4,i-1,-1):\n",
    "        print(\" \",end=\"\")\n",
    "    for j in range(1,i+1):\n",
    "        print(\"*\",end=\"\")\n",
    "    print(\" \")"
   ]
  },
  {
   "cell_type": "code",
   "execution_count": 60,
   "id": "9ef7f3d2",
   "metadata": {},
   "outputs": [
    {
     "name": "stdout",
     "output_type": "stream",
     "text": [
      " **** \n",
      "  *** \n",
      "   ** \n",
      "    * \n"
     ]
    }
   ],
   "source": [
    "for i in range(1,5):\n",
    "    for s in range(1,i+1,1):\n",
    "        print(\" \",end=\"\")\n",
    "    for j in range(4,i-1,-1):\n",
    "        print(\"*\",end=\"\")\n",
    "    print(\" \")"
   ]
  },
  {
   "cell_type": "code",
   "execution_count": 67,
   "id": "665c3c70",
   "metadata": {},
   "outputs": [
    {
     "name": "stdout",
     "output_type": "stream",
     "text": [
      "       *  \n",
      "       \n",
      "     * * *  \n",
      "     \n",
      "   * * * * *  \n",
      "   \n",
      " * * * * * * *  \n"
     ]
    }
   ],
   "source": [
    "for i in range(1,8):\n",
    "    for s in range(7,i-1,-1):\n",
    "        print(\" \",end=\"\")\n",
    "    \n",
    "    for j in range(1,i+1):\n",
    "        if(i%2!=0):\n",
    "            print(\"*\",end=\" \")\n",
    "    print(\" \")"
   ]
  },
  {
   "cell_type": "code",
   "execution_count": null,
   "id": "19ad151b",
   "metadata": {},
   "outputs": [],
   "source": []
  }
 ],
 "metadata": {
  "kernelspec": {
   "display_name": "Python 3 (ipykernel)",
   "language": "python",
   "name": "python3"
  },
  "language_info": {
   "codemirror_mode": {
    "name": "ipython",
    "version": 3
   },
   "file_extension": ".py",
   "mimetype": "text/x-python",
   "name": "python",
   "nbconvert_exporter": "python",
   "pygments_lexer": "ipython3",
   "version": "3.11.5"
  }
 },
 "nbformat": 4,
 "nbformat_minor": 5
}
