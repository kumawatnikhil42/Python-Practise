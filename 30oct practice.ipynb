{
 "cells": [
  {
   "cell_type": "code",
   "execution_count": 48,
   "id": "097e4fce-a987-4c9e-a5b1-36d39c0cfda3",
   "metadata": {},
   "outputs": [
    {
     "data": {
      "text/plain": [
       "True"
      ]
     },
     "execution_count": 48,
     "metadata": {},
     "output_type": "execute_result"
    }
   ],
   "source": [
    "'''\n",
    "Q. take two object of a class with 2 instance variable each\n",
    " c1(10,20)    c(2,4)\n",
    " c1>c2\n",
    "  10**2+ 2**2    >  20**2 + 4**2\n",
    "    104 > 416\n",
    "  if condition is false return true\n",
    "otherwise do vice-versa\n",
    "'''\n",
    "class comparison:\n",
    "    def __init__(self,num1,num2):\n",
    "        self.num1=num1\n",
    "        self.num2=num2\n",
    "    \n",
    "    def __gt__(self,other):\n",
    "        a=self.num1**2+other.num1**2>self.num2**2+other.num2**2\n",
    "        if(a==True):\n",
    "            return False\n",
    "        else:\n",
    "            return True\n",
    "\n",
    "c1=comparison(10,20)\n",
    "c2=comparison(2,4)\n",
    "c1>c2\n"
   ]
  },
  {
   "cell_type": "code",
   "execution_count": 1,
   "id": "c52be5f7-db76-4d63-915e-7d47445d06ec",
   "metadata": {},
   "outputs": [
    {
     "data": {
      "text/plain": [
       "'\\n'"
      ]
     },
     "execution_count": 1,
     "metadata": {},
     "output_type": "execute_result"
    }
   ],
   "source": [
    "#Abstraction\n",
    "'''\n",
    "-Abstraction in python is defined as a process of handling complexity by hiding unnecessary information from the user.\n",
    "-In Python, abstraction can be achieved by having/using abstract classes and methods in our programs.\n",
    "-Python provides the abc module to use the abstraction in the Python.\n",
    "-syntax=> from abc import ABC,\n",
    "          class ClassName(ABC):\n",
    "\n",
    "'''\n",
    "\n"
   ]
  },
  {
   "cell_type": "code",
   "execution_count": null,
   "id": "d86f560d-39e4-47a3-9056-fa37674b3c16",
   "metadata": {},
   "outputs": [],
   "source": []
  }
 ],
 "metadata": {
  "kernelspec": {
   "display_name": "Python 3 (ipykernel)",
   "language": "python",
   "name": "python3"
  },
  "language_info": {
   "codemirror_mode": {
    "name": "ipython",
    "version": 3
   },
   "file_extension": ".py",
   "mimetype": "text/x-python",
   "name": "python",
   "nbconvert_exporter": "python",
   "pygments_lexer": "ipython3",
   "version": "3.10.11"
  }
 },
 "nbformat": 4,
 "nbformat_minor": 5
}
