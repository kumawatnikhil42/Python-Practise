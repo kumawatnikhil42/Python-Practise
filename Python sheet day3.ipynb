{
 "cells": [
  {
   "cell_type": "code",
   "execution_count": 17,
   "id": "300dd833-cd47-4ac1-a9b4-4921305b55ac",
   "metadata": {},
   "outputs": [
    {
     "name": "stdout",
     "output_type": "stream",
     "text": [
      "oldlist:  [5, 21, 4, 18, 2, 55, 6, 8, 3, 18, 5, 3, 44]\n",
      "even number list:  [4, 18, 2, 6, 8, 18, 44]\n"
     ]
    }
   ],
   "source": [
    "#Q8\n",
    "list = [5, 21,4,18,2,55,6,8,3,18,5,3,44,]\n",
    "newlist=[i for i in list if i%2==0]\n",
    "print(\"oldlist: \",list)\n",
    "print(\"even number list: \",newlist)"
   ]
  },
  {
   "cell_type": "code",
   "execution_count": 7,
   "id": "26941b27-09e4-4511-8558-327a3eb59272",
   "metadata": {},
   "outputs": [
    {
     "name": "stdin",
     "output_type": "stream",
     "text": [
      "enter no. 9\n"
     ]
    },
    {
     "name": "stdout",
     "output_type": "stream",
     "text": [
      "0 1 1 2 3 5 8 13 "
     ]
    }
   ],
   "source": [
    "#Q12\n",
    "n=int(input(\"enter no.\"))\n",
    "num1=0\n",
    "num2=1\n",
    "print(num1,num2,end=' ')\n",
    "num3=num1+num2\n",
    "for i in range(3,n,1):\n",
    "    print(num3,end=' ')\n",
    "    num1=num2\n",
    "    num2=num3\n",
    "    num3=num1+num2"
   ]
  },
  {
   "cell_type": "code",
   "execution_count": 16,
   "id": "cb5a0273-e759-43cb-8de8-2c540659e217",
   "metadata": {},
   "outputs": [
    {
     "name": "stdin",
     "output_type": "stream",
     "text": [
      "enter name: nikhil\n",
      "enter marks: 29\n"
     ]
    },
    {
     "name": "stdout",
     "output_type": "stream",
     "text": [
      "{'nikhil': 29}\n"
     ]
    }
   ],
   "source": [
    "#Q17\n",
    "name=input(\"enter name:\")\n",
    "marks=int(input(\"enter marks:\"))\n",
    "dict={}\n",
    "if(0<=marks<=100):\n",
    "    dict.update({name:marks})\n",
    "    print(dict)\n",
    "else:\n",
    "    raise assertion_error\n",
    "        "
   ]
  },
  {
   "cell_type": "code",
   "execution_count": 1,
   "id": "b4acf727-1156-4361-8daa-8600ff9bc4bd",
   "metadata": {},
   "outputs": [
    {
     "name": "stdout",
     "output_type": "stream",
     "text": [
      "['snack', 'crocodile', 'zebra', 'lion', 'tiger', 'cat']\n"
     ]
    }
   ],
   "source": [
    "#Q6\n",
    "list1 = [\"cat\",\"tiger\",\"lion\", \"zebra\" , \"crocodile\", \"snack\"]\n",
    "reverselist=[]\n",
    "for i in list1:\n",
    "    reverselist.insert(0,i)\n",
    "print(reverselist)"
   ]
  }
 ],
 "metadata": {
  "kernelspec": {
   "display_name": "Python 3 (ipykernel)",
   "language": "python",
   "name": "python3"
  },
  "language_info": {
   "codemirror_mode": {
    "name": "ipython",
    "version": 3
   },
   "file_extension": ".py",
   "mimetype": "text/x-python",
   "name": "python",
   "nbconvert_exporter": "python",
   "pygments_lexer": "ipython3",
   "version": "3.10.11"
  }
 },
 "nbformat": 4,
 "nbformat_minor": 5
}
