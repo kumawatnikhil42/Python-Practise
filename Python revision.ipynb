{
 "cells": [
  {
   "cell_type": "markdown",
   "id": "69b977f1",
   "metadata": {},
   "source": [
    "# Python revision"
   ]
  },
  {
   "cell_type": "code",
   "execution_count": 1,
   "id": "ead2b712",
   "metadata": {},
   "outputs": [
    {
     "name": "stdout",
     "output_type": "stream",
     "text": [
      "addition: 5\n"
     ]
    }
   ],
   "source": [
    "#Fuction==> block of code\n",
    "def add():\n",
    "    a=2\n",
    "    b=3\n",
    "    c=a+b\n",
    "    print(\"addition:\",c)\n",
    "    \n",
    "add()"
   ]
  },
  {
   "cell_type": "code",
   "execution_count": 2,
   "id": "560d1631",
   "metadata": {},
   "outputs": [
    {
     "name": "stdout",
     "output_type": "stream",
     "text": [
      "enter first no.:2\n",
      "enter second no.:3\n",
      "addition: 5\n"
     ]
    }
   ],
   "source": [
    "#Arguments==> these are values which we supplied to the function to operate on.\n",
    "def add(a,b):\n",
    "    c=a+b\n",
    "    print(\"addition:\",c)\n",
    "p=int(input(\"enter first no.:\"))\n",
    "q=int(input(\"enter second no.:\"))\n",
    "add(p,q)"
   ]
  },
  {
   "cell_type": "code",
   "execution_count": 3,
   "id": "62745ee1",
   "metadata": {},
   "outputs": [
    {
     "name": "stdout",
     "output_type": "stream",
     "text": [
      "enter the number:45\n",
      "odd number\n"
     ]
    }
   ],
   "source": [
    "def oddeve(a):\n",
    "    if(a%2==0):\n",
    "        print(\"even number\")\n",
    "    else:\n",
    "        print(\"odd number\")\n",
    "p=int(input(\"enter the number:\"))\n",
    "oddeve(p)"
   ]
  },
  {
   "cell_type": "code",
   "execution_count": 5,
   "id": "406d6af0",
   "metadata": {},
   "outputs": [
    {
     "name": "stdout",
     "output_type": "stream",
     "text": [
      "odd number\n"
     ]
    }
   ],
   "source": [
    "def oddeve():\n",
    "    a=5\n",
    "    if(a%2==0):\n",
    "        print(\"even number\")\n",
    "    else:\n",
    "        print(\"odd number\")\n",
    "oddeve()"
   ]
  },
  {
   "cell_type": "code",
   "execution_count": 6,
   "id": "a0f8389f",
   "metadata": {},
   "outputs": [
    {
     "name": "stdout",
     "output_type": "stream",
     "text": [
      "addition: 5\n"
     ]
    }
   ],
   "source": [
    "def add():#without arg and return\n",
    "    a=2\n",
    "    b=3\n",
    "    c=a+b\n",
    "    print(\"addition:\",c)\n",
    "    \n",
    "add()"
   ]
  },
  {
   "cell_type": "code",
   "execution_count": 7,
   "id": "e256ba69",
   "metadata": {},
   "outputs": [
    {
     "name": "stdout",
     "output_type": "stream",
     "text": [
      "addition: 9\n"
     ]
    }
   ],
   "source": [
    "def add(a,b):#without return with arg\n",
    "    c=a+b\n",
    "    print(\"addition:\",c)\n",
    "p=5\n",
    "q=4\n",
    "add(p,q)"
   ]
  },
  {
   "cell_type": "code",
   "execution_count": 8,
   "id": "0a042019",
   "metadata": {},
   "outputs": [
    {
     "name": "stdout",
     "output_type": "stream",
     "text": [
      "8\n"
     ]
    }
   ],
   "source": [
    "def add():#no arg with return\n",
    "    a=4\n",
    "    b=4\n",
    "    c=a+b\n",
    "    return c\n",
    "x=add()\n",
    "print(x)"
   ]
  },
  {
   "cell_type": "code",
   "execution_count": 11,
   "id": "410f3005",
   "metadata": {},
   "outputs": [
    {
     "name": "stdout",
     "output_type": "stream",
     "text": [
      "13\n"
     ]
    }
   ],
   "source": [
    "def add(a,b):#with return and arg\n",
    "    c=a+b\n",
    "    return c\n",
    "p=4\n",
    "q=9\n",
    "x=add(p,q)\n",
    "print(x)"
   ]
  },
  {
   "cell_type": "code",
   "execution_count": 14,
   "id": "66c1d2dd",
   "metadata": {},
   "outputs": [
    {
     "name": "stdout",
     "output_type": "stream",
     "text": [
      "7\n"
     ]
    }
   ],
   "source": [
    "#lambda function==>a lambda function can take any number of arguments but can only have one expression\n",
    "#syntax: lambda arg : expression\n",
    "x= lambda a : a+5\n",
    "print(x(2))\n"
   ]
  },
  {
   "cell_type": "code",
   "execution_count": 15,
   "id": "d28a0ace",
   "metadata": {},
   "outputs": [
    {
     "name": "stdout",
     "output_type": "stream",
     "text": [
      "6\n"
     ]
    }
   ],
   "source": [
    "x= lambda a,b : a*b\n",
    "print(x(2,3))"
   ]
  },
  {
   "cell_type": "code",
   "execution_count": 16,
   "id": "817fbefd",
   "metadata": {},
   "outputs": [
    {
     "name": "stdout",
     "output_type": "stream",
     "text": [
      "1\n"
     ]
    }
   ],
   "source": [
    "x= lambda a,b,c : a+b-c\n",
    "print(x(2,3,4))"
   ]
  },
  {
   "cell_type": "code",
   "execution_count": 18,
   "id": "d2fb0f73",
   "metadata": {},
   "outputs": [
    {
     "name": "stdout",
     "output_type": "stream",
     "text": [
      "[5, 12, 14, 17]\n",
      "5\n",
      "12\n",
      "14\n",
      "17\n"
     ]
    }
   ],
   "source": [
    "#filter function==> the filter function returns an iterator where the items are filtered through a function to test, if the item is accepted return true or false.\n",
    "ages=[5,12,14,17,34,56,32]\n",
    "def myfunc(x):\n",
    "    if(x<=18):\n",
    "        return True\n",
    "    else:\n",
    "        return False\n",
    "kid=list(filter(myfunc,ages))\n",
    "print(kid)\n",
    "for x in kid:\n",
    "    print(x)"
   ]
  },
  {
   "cell_type": "code",
   "execution_count": 19,
   "id": "3ee31c1c",
   "metadata": {},
   "outputs": [
    {
     "name": "stdout",
     "output_type": "stream",
     "text": [
      "[2, 3, 4]\n"
     ]
    }
   ],
   "source": [
    "#map function==> the map() executes specified func. for each item in a iterable. the item is sent to the function as parameter\n",
    "a=[\"2\",\"3\",\"4\"]\n",
    "for i in range(len(a)):\n",
    "    a[i]=int(a[i])\n",
    "    \n",
    "print(a)\n"
   ]
  },
  {
   "cell_type": "code",
   "execution_count": 21,
   "id": "a3b9abb0",
   "metadata": {},
   "outputs": [
    {
     "name": "stdout",
     "output_type": "stream",
     "text": [
      "[2, 3, 4]\n",
      "5\n"
     ]
    }
   ],
   "source": [
    "a=[\"2\",\"3\",\"4\"]\n",
    "b=list(map(int,a))\n",
    "print(b)\n",
    "b[2]=b[2]+1\n",
    "print(b[2])"
   ]
  },
  {
   "cell_type": "code",
   "execution_count": 23,
   "id": "cff2f58e",
   "metadata": {},
   "outputs": [
    {
     "name": "stdout",
     "output_type": "stream",
     "text": [
      "[1, 4, 9, 16, 25]\n"
     ]
    }
   ],
   "source": [
    "a=[1,2,3,4,5]\n",
    "def squ(a):\n",
    "    return a*a\n",
    "square=list(map(squ,a))\n",
    "print(square)"
   ]
  },
  {
   "cell_type": "code",
   "execution_count": 26,
   "id": "be692241",
   "metadata": {},
   "outputs": [
    {
     "name": "stdout",
     "output_type": "stream",
     "text": [
      "[1, 4, 9, 16, 25]\n"
     ]
    }
   ],
   "source": [
    "a=[1,2,3,4,5]\n",
    "square=list(map(lambda x : x*x ,a))\n",
    "print(square)"
   ]
  },
  {
   "cell_type": "code",
   "execution_count": 27,
   "id": "296a64c2",
   "metadata": {},
   "outputs": [
    {
     "name": "stdout",
     "output_type": "stream",
     "text": [
      "addition: 15\n"
     ]
    }
   ],
   "source": [
    "# reduce function==> the reduce function is used to apply a particular function passed in its argument to all of the list elements mentioned in the sequence passed along. This func. is defined in \"functools\" moudle. At first step,first two elements of sequence are picked and the result is obtained\n",
    "from functools import reduce\n",
    "def myfunc(a,b):\n",
    "    return a+b\n",
    "val=[1,2,3,4,5]\n",
    "add= reduce(myfunc,val)\n",
    "print(\"addition:\",add)"
   ]
  },
  {
   "cell_type": "code",
   "execution_count": 30,
   "id": "094f09d6",
   "metadata": {},
   "outputs": [
    {
     "name": "stdout",
     "output_type": "stream",
     "text": [
      "45\n",
      "['sam', 45, 'mohit', 56]\n",
      "['sam', 45, 'mohit', 56]\n",
      "[45, 'mohit']\n"
     ]
    }
   ],
   "source": [
    "#list==> list is a collection of different values oe different type of items.\n",
    "#elements separated with commas and indexing start from 0 and length start from1 and in=dentification =[] square brackets\n",
    "# it is mutable data type\n",
    "a=[\"sam\",45,\"mohit\",56]\n",
    "print(a[1])\n",
    "print(a[0:])\n",
    "print(a[:])\n",
    "print(a[1:3])"
   ]
  },
  {
   "cell_type": "code",
   "execution_count": 31,
   "id": "135f077e",
   "metadata": {},
   "outputs": [
    {
     "name": "stdout",
     "output_type": "stream",
     "text": [
      "['sam', 60, 'mohit', 56]\n"
     ]
    }
   ],
   "source": [
    "a[1]=60\n",
    "print(a)"
   ]
  },
  {
   "cell_type": "code",
   "execution_count": 32,
   "id": "4d8d3fa2",
   "metadata": {},
   "outputs": [
    {
     "name": "stdout",
     "output_type": "stream",
     "text": [
      "sam\n",
      "60\n",
      "mohit\n",
      "56\n"
     ]
    }
   ],
   "source": [
    "for i in a:\n",
    "    print(i)"
   ]
  },
  {
   "cell_type": "code",
   "execution_count": 33,
   "id": "3953877c",
   "metadata": {},
   "outputs": [
    {
     "name": "stdout",
     "output_type": "stream",
     "text": [
      "sam\n",
      "60\n",
      "mohit\n",
      "56\n"
     ]
    }
   ],
   "source": [
    "for i in range(len(a)):\n",
    "    print(a[i])"
   ]
  },
  {
   "cell_type": "code",
   "execution_count": 36,
   "id": "cdb34969",
   "metadata": {},
   "outputs": [
    {
     "name": "stdout",
     "output_type": "stream",
     "text": [
      "5\n"
     ]
    }
   ],
   "source": [
    "#max()==> this function is used to  find max value present in the list.\n",
    "a=[1,2,3,4,5]\n",
    "print(max(a))"
   ]
  },
  {
   "cell_type": "code",
   "execution_count": 37,
   "id": "68a442b6",
   "metadata": {},
   "outputs": [
    {
     "data": {
      "text/plain": [
       "'shyam'"
      ]
     },
     "execution_count": 37,
     "metadata": {},
     "output_type": "execute_result"
    }
   ],
   "source": [
    "a=[\"ram\",\"shyam\"]\n",
    "max(a)"
   ]
  },
  {
   "cell_type": "code",
   "execution_count": 38,
   "id": "b1553298",
   "metadata": {},
   "outputs": [
    {
     "data": {
      "text/plain": [
       "'ram'"
      ]
     },
     "execution_count": 38,
     "metadata": {},
     "output_type": "execute_result"
    }
   ],
   "source": [
    "#min()==> this function is ussed to minimum value present in the list\n",
    "min(a)"
   ]
  },
  {
   "cell_type": "code",
   "execution_count": 39,
   "id": "8188a932",
   "metadata": {},
   "outputs": [
    {
     "name": "stdout",
     "output_type": "stream",
     "text": [
      "['sam', 98, 'mohit', 87]\n",
      "['sam', 98, 'mohit', 87, 'preeti']\n"
     ]
    }
   ],
   "source": [
    "#append()==>this func. is used to add element in the last indexing of container.\n",
    "a=[\"sam\",98,\"mohit\",87]\n",
    "print(a)\n",
    "a.append(\"preeti\")\n",
    "print(a)"
   ]
  },
  {
   "cell_type": "code",
   "execution_count": 40,
   "id": "1dbeaf3b",
   "metadata": {},
   "outputs": [
    {
     "name": "stdout",
     "output_type": "stream",
     "text": [
      "enter your name:nikhil\n",
      "enter your name:tushar\n",
      "enter your name:ankush\n",
      "enter your name:gaurav\n",
      "['nikhil', 'tushar', 'ankush', 'gaurav']\n"
     ]
    }
   ],
   "source": [
    "a=[]\n",
    "for i in range(4):\n",
    "    x=input(\"enter your name:\")\n",
    "    a.append(x)\n",
    "print(a)"
   ]
  },
  {
   "cell_type": "code",
   "execution_count": 41,
   "id": "6f15e889",
   "metadata": {},
   "outputs": [
    {
     "name": "stdout",
     "output_type": "stream",
     "text": [
      "3\n"
     ]
    }
   ],
   "source": [
    "#count()==> this method is used to count the frequency of a given object\n",
    "a=[\"sam\",89,\"mohit\",89,\"suresh\",89]\n",
    "x=a.count(89)\n",
    "print(x)"
   ]
  },
  {
   "cell_type": "code",
   "execution_count": 3,
   "id": "a0a4e85e",
   "metadata": {},
   "outputs": [
    {
     "name": "stdout",
     "output_type": "stream",
     "text": [
      "enter items:10\n",
      "enter items:20\n",
      "enter items:30\n",
      "enter items:20\n",
      "[10, 20, 30, 20]\n",
      "enter freq. :20\n",
      "2\n"
     ]
    }
   ],
   "source": [
    "a=[]\n",
    "for i in range(4):\n",
    "    x=int(input(\"enter items:\"))\n",
    "    a.append(x)\n",
    "print(a)\n",
    "y=int(input(\"enter freq. :\"))\n",
    "print(a.count(y))"
   ]
  },
  {
   "cell_type": "code",
   "execution_count": 47,
   "id": "de914540",
   "metadata": {},
   "outputs": [
    {
     "name": "stdout",
     "output_type": "stream",
     "text": [
      "1\n"
     ]
    }
   ],
   "source": [
    "#index()==> this function is used to find theindex of the object element.this function returns the first index of the object if it is found otherwise it returns an exception showing that the element is not found.\n",
    "a=[\"sam\",\"kriti\",\"rahul\",\"kriti\"]\n",
    "x=a.index(\"kriti\")\n",
    "print(x)"
   ]
  },
  {
   "cell_type": "code",
   "execution_count": 48,
   "id": "229bd203",
   "metadata": {},
   "outputs": [
    {
     "name": "stdout",
     "output_type": "stream",
     "text": [
      "['sam', 'rahul', 'kriti', 'rahul', 'kriti']\n"
     ]
    }
   ],
   "source": [
    "#insert(index,object)==>this func. is used to insert an object at the given indexing\n",
    "a=[\"sam\",\"kriti\",\"rahul\",\"kriti\"]\n",
    "a.insert(1,\"rahul\")\n",
    "print(a)"
   ]
  },
  {
   "cell_type": "code",
   "execution_count": 49,
   "id": "9e016219",
   "metadata": {},
   "outputs": [
    {
     "name": "stdout",
     "output_type": "stream",
     "text": [
      "['sam', 'rahul', 'kriti']\n"
     ]
    }
   ],
   "source": [
    "#remove()==> this method is used to delete an object from the given list\n",
    "#it remove the first occurence of the list\n",
    "a=[\"sam\",\"kriti\",\"rahul\",\"kriti\"]\n",
    "a.remove(\"kriti\")\n",
    "print(a)"
   ]
  },
  {
   "cell_type": "code",
   "execution_count": 50,
   "id": "08cc7e2f",
   "metadata": {},
   "outputs": [
    {
     "name": "stdout",
     "output_type": "stream",
     "text": [
      "['kriti', 'rahul', 'kriti', 'sam']\n"
     ]
    }
   ],
   "source": [
    "#reverse()==> this func. is used to reverse an element present in the list\n",
    "a=[\"sam\",\"kriti\",\"rahul\",\"kriti\"]\n",
    "a.reverse()\n",
    "print(a)"
   ]
  },
  {
   "cell_type": "code",
   "execution_count": 51,
   "id": "92c28cc2",
   "metadata": {},
   "outputs": [
    {
     "name": "stdout",
     "output_type": "stream",
     "text": [
      "enter item:1\n",
      "enter item:2\n",
      "enter item:3\n",
      "['1', '2', '3']\n",
      "['3', '2', '1']\n"
     ]
    }
   ],
   "source": [
    "a=[]\n",
    "for i in range(3):\n",
    "    x=input(\"enter item:\")\n",
    "    a.append(x)\n",
    "print(a)\n",
    "a.reverse()\n",
    "print(a)"
   ]
  },
  {
   "cell_type": "code",
   "execution_count": 52,
   "id": "0c24d2ef",
   "metadata": {},
   "outputs": [
    {
     "name": "stdout",
     "output_type": "stream",
     "text": [
      "['sam', 'kriti', 'rahul']\n"
     ]
    }
   ],
   "source": [
    "#pop()==> this function is used to delete the last element from the list\n",
    "a=[\"sam\",\"kriti\",\"rahul\",\"kriti\"]\n",
    "a.pop()\n",
    "print(a)"
   ]
  },
  {
   "cell_type": "code",
   "execution_count": 54,
   "id": "5abd57fb",
   "metadata": {},
   "outputs": [
    {
     "name": "stdout",
     "output_type": "stream",
     "text": [
      "enter number:3\n",
      "enter number:1\n",
      "enter number:2\n",
      "enter number:3\n",
      "6\n"
     ]
    }
   ],
   "source": [
    "a=[]\n",
    "size=int(input(\"enter number:\"))\n",
    "for i in range(size):\n",
    "    val = int(input(\"enter number:\"))\n",
    "    a.append(val)\n",
    "sum = 0\n",
    "for i in range(size):\n",
    "    sum=sum+a[i]\n",
    "print(sum)\n",
    "    "
   ]
  },
  {
   "cell_type": "code",
   "execution_count": 55,
   "id": "102e7c13",
   "metadata": {},
   "outputs": [
    {
     "name": "stdout",
     "output_type": "stream",
     "text": [
      "enter number:3\n",
      "enter number:1\n",
      "enter number:2\n",
      "enter number:3\n",
      "even: 1  odd: 2\n"
     ]
    }
   ],
   "source": [
    "a=[]\n",
    "size=int(input(\"enter number:\"))\n",
    "for i in range(size):\n",
    "    val = int(input(\"enter number:\"))\n",
    "    a.append(val)\n",
    "even=0\n",
    "odd=0\n",
    "for i in range(size):\n",
    "    if(a[i]%2==0):\n",
    "        even+=1\n",
    "    else:\n",
    "        odd+=1\n",
    "print(\"even:\",even,\" odd:\",odd)\n"
   ]
  },
  {
   "cell_type": "code",
   "execution_count": null,
   "id": "f3a983aa",
   "metadata": {},
   "outputs": [],
   "source": []
  }
 ],
 "metadata": {
  "kernelspec": {
   "display_name": "Python 3 (ipykernel)",
   "language": "python",
   "name": "python3"
  },
  "language_info": {
   "codemirror_mode": {
    "name": "ipython",
    "version": 3
   },
   "file_extension": ".py",
   "mimetype": "text/x-python",
   "name": "python",
   "nbconvert_exporter": "python",
   "pygments_lexer": "ipython3",
   "version": "3.11.5"
  }
 },
 "nbformat": 4,
 "nbformat_minor": 5
}
