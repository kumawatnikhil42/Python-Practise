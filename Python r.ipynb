{
 "cells": [
  {
   "cell_type": "code",
   "execution_count": 1,
   "id": "6b995fdc-f724-46cd-8ba1-ca3edff14223",
   "metadata": {},
   "outputs": [],
   "source": [
    "# if we can pass a function as a argument to another function\n",
    "# all high order functions are first class functions but vice versa not true"
   ]
  },
  {
   "cell_type": "code",
   "execution_count": 2,
   "id": "6551a2ec-b893-48fb-8c4b-28fb5dd855b5",
   "metadata": {},
   "outputs": [
    {
     "name": "stdout",
     "output_type": "stream",
     "text": [
      "40 30\n"
     ]
    }
   ],
   "source": [
    "def func(a,b):\n",
    "    return a+b\n",
    "def addnumber(x,y):\n",
    "    print(x,y(10,20))\n",
    "addnumber(40,func)"
   ]
  },
  {
   "cell_type": "code",
   "execution_count": 3,
   "id": "145f85f6-0d38-4dab-9d67-f58a25ce2c47",
   "metadata": {},
   "outputs": [
    {
     "name": "stdout",
     "output_type": "stream",
     "text": [
      "64\n"
     ]
    }
   ],
   "source": [
    "def square(x):\n",
    "    return x**2\n",
    "def cube(n,fnt):\n",
    "    print(n*fnt(n))\n",
    "cube(4,square)"
   ]
  },
  {
   "cell_type": "code",
   "execution_count": 4,
   "id": "adfc5dc2-8595-4d6e-8761-948b6e542e45",
   "metadata": {},
   "outputs": [],
   "source": [
    "# lambda functions"
   ]
  },
  {
   "cell_type": "code",
   "execution_count": 5,
   "id": "9e23ade6-d7f9-446b-95b4-e95c4212ab4a",
   "metadata": {},
   "outputs": [
    {
     "data": {
      "text/plain": [
       "30"
      ]
     },
     "execution_count": 5,
     "metadata": {},
     "output_type": "execute_result"
    }
   ],
   "source": [
    "func = lambda x,y:x+y\n",
    "func(10,20)"
   ]
  },
  {
   "cell_type": "code",
   "execution_count": 6,
   "id": "71fda048-8808-462b-bc50-015d015e7128",
   "metadata": {},
   "outputs": [
    {
     "name": "stdout",
     "output_type": "stream",
     "text": [
      "64\n"
     ]
    }
   ],
   "source": [
    "def cube(x):\n",
    "    c=lambda x:x**2\n",
    "    print(x*c(x))\n",
    "cube(4)"
   ]
  },
  {
   "cell_type": "code",
   "execution_count": 4,
   "id": "461fcf24-f907-4625-b537-74573c485f9e",
   "metadata": {},
   "outputs": [
    {
     "name": "stdout",
     "output_type": "stream",
     "text": [
      "False\n"
     ]
    }
   ],
   "source": [
    "x=\"arra\"\n",
    "y=\"bgga\"\n",
    "l1=[]\n",
    "l2=[]\n",
    "for i in x:\n",
    "    l1.append(x.index(i))\n",
    "for j in y:\n",
    "    l2.append(y.index(j))\n",
    "if l1==l2:\n",
    "    print(True)\n",
    "else:\n",
    "    print(False)\n",
    "    "
   ]
  },
  {
   "cell_type": "code",
   "execution_count": 11,
   "id": "24896eac-09a7-43de-a46b-3dd042335d32",
   "metadata": {},
   "outputs": [
    {
     "name": "stdout",
     "output_type": "stream",
     "text": [
      "5\n"
     ]
    }
   ],
   "source": [
    "prices = [7,1,5,3,6,4]\n",
    "buy=0\n",
    "sell=1\n",
    "maxx=0\n",
    "while sell<len(prices):\n",
    "    if prices[sell]>prices[buy]:\n",
    "        profit= prices[sell]-prices[buy]\n",
    "        maxx=max(maxx,profit)\n",
    "    else:\n",
    "        buy=sell\n",
    "    sell+=1  \n",
    "print(maxx)"
   ]
  },
  {
   "cell_type": "code",
   "execution_count": 1,
   "id": "ce17e1ba-116d-4809-b092-1dd389f56f29",
   "metadata": {},
   "outputs": [
    {
     "data": {
      "text/plain": [
       "100"
      ]
     },
     "execution_count": 1,
     "metadata": {},
     "output_type": "execute_result"
    }
   ],
   "source": [
    "def square(x):\n",
    "    return x**2\n",
    "l=[10,20,30]\n",
    "out=map(square,l)\n",
    "next(out)"
   ]
  },
  {
   "cell_type": "code",
   "execution_count": 2,
   "id": "80b6a93a-79ca-4b6d-a96d-ee31cc0762e0",
   "metadata": {},
   "outputs": [
    {
     "data": {
      "text/plain": [
       "400"
      ]
     },
     "execution_count": 2,
     "metadata": {},
     "output_type": "execute_result"
    }
   ],
   "source": [
    "next(out)"
   ]
  },
  {
   "cell_type": "code",
   "execution_count": 3,
   "id": "8b02d0d7-f5cc-4da1-82fb-3fc9e1e800b0",
   "metadata": {},
   "outputs": [
    {
     "data": {
      "text/plain": [
       "[100, 400, 900]"
      ]
     },
     "execution_count": 3,
     "metadata": {},
     "output_type": "execute_result"
    }
   ],
   "source": [
    "def square(x):\n",
    "    return x**2\n",
    "l=[10,20,30]\n",
    "list(map(square,l))"
   ]
  },
  {
   "cell_type": "code",
   "execution_count": 4,
   "id": "159c66fe-cfe6-4dee-b326-1cd268a441eb",
   "metadata": {},
   "outputs": [
    {
     "data": {
      "text/plain": [
       "[100, 400, 900]"
      ]
     },
     "execution_count": 4,
     "metadata": {},
     "output_type": "execute_result"
    }
   ],
   "source": [
    "list(map(lambda x:x**2,l))"
   ]
  },
  {
   "cell_type": "code",
   "execution_count": 7,
   "id": "6c8d1f89-5201-4c40-be0e-333074153826",
   "metadata": {},
   "outputs": [
    {
     "data": {
      "text/plain": [
       "[30]"
      ]
     },
     "execution_count": 7,
     "metadata": {},
     "output_type": "execute_result"
    }
   ],
   "source": [
    "list(filter(lambda x:x%3==0,l))"
   ]
  },
  {
   "cell_type": "code",
   "execution_count": 8,
   "id": "04c172a7-067a-4ea1-ae7e-61b1f8d1978d",
   "metadata": {},
   "outputs": [
    {
     "name": "stdout",
     "output_type": "stream",
     "text": [
      "10\n",
      "Error occured\n"
     ]
    }
   ],
   "source": [
    "# Exceptional handling\n",
    "\n",
    "try:\n",
    "    print(10)\n",
    "    print(num123)\n",
    "except:\n",
    "    print(\"Error occured\")"
   ]
  },
  {
   "cell_type": "code",
   "execution_count": 13,
   "id": "2b7943f6-4c0d-4cc4-97ce-53a2ca1faaf9",
   "metadata": {},
   "outputs": [
    {
     "name": "stdout",
     "output_type": "stream",
     "text": [
      "10\n",
      "Error occured name 'num123' is not defined\n"
     ]
    }
   ],
   "source": [
    "try:\n",
    "    print(10)\n",
    "    print(num123)\n",
    "except NameError as e:\n",
    "    print(\"Error occured\",e)"
   ]
  },
  {
   "cell_type": "code",
   "execution_count": 15,
   "id": "1516de9a-aa19-4a40-b803-e4b070657a73",
   "metadata": {},
   "outputs": [
    {
     "name": "stdout",
     "output_type": "stream",
     "text": [
      "10\n",
      "Error occured name 'num123' is not defined\n"
     ]
    }
   ],
   "source": [
    "try:\n",
    "    print(10)\n",
    "    print(num123)\n",
    "    \"hey\"+20\n",
    "except (NameError,TypeError) as e:\n",
    "    print(\"Error occured\",e)"
   ]
  },
  {
   "cell_type": "code",
   "execution_count": 18,
   "id": "bd3d171c-2e6b-4dd2-be95-09e04a060412",
   "metadata": {},
   "outputs": [
    {
     "name": "stdout",
     "output_type": "stream",
     "text": [
      "10\n",
      "Error occured name 'num123' is not defined\n"
     ]
    }
   ],
   "source": [
    "try:\n",
    "    print(10)\n",
    "    print(num123)\n",
    "    \"hey\"+20\n",
    "except (NameError,TypeError) as e:\n",
    "    print(\"Error occured\",e)\n",
    "except Exception as e:\n",
    "    print(\"Error occured\",e)"
   ]
  },
  {
   "cell_type": "code",
   "execution_count": 21,
   "id": "7e851678-bb0f-46d3-9b61-c76306d21c02",
   "metadata": {},
   "outputs": [
    {
     "name": "stdout",
     "output_type": "stream",
     "text": [
      "10\n",
      "Error occured name 'num123' is not defined\n",
      "always excute block\n"
     ]
    }
   ],
   "source": [
    "try:\n",
    "    print(10)\n",
    "    print(num123)\n",
    "    \"hey\"+20\n",
    "except (NameError,TypeError) as e:\n",
    "    print(\"Error occured\",e)\n",
    "finally:\n",
    "    print(\"always excute block\")"
   ]
  },
  {
   "cell_type": "code",
   "execution_count": 54,
   "id": "514c7e9a-bfe6-482b-a788-e63db3ee59ae",
   "metadata": {},
   "outputs": [
    {
     "data": {
      "text/plain": [
       "[2, 3, 1, 7, 4, 5, 6]"
      ]
     },
     "execution_count": 54,
     "metadata": {},
     "output_type": "execute_result"
    }
   ],
   "source": [
    "nums = [1,2,3,4,5,6,7] \n",
    "k = 3\n",
    "n=len(nums)\n",
    "myarr=[0]*n\n",
    "k=k%n\n",
    "for i in range(0,n):\n",
    "    pos=(i+k)%n\n",
    "    myarr[pos]=nums[i]\n",
    "nums[:]=myarr    \n",
    "nums"
   ]
  },
  {
   "cell_type": "code",
   "execution_count": 70,
   "id": "de0c85a3-0a9a-45c6-84a1-f2a9487e26f0",
   "metadata": {},
   "outputs": [
    {
     "name": "stdout",
     "output_type": "stream",
     "text": [
      "[2, 3]\n"
     ]
    }
   ],
   "source": [
    "\n",
    "class Solution:\n",
    "    def twoSum(self, numbers: List[int], target: int) -> List[int]:\n",
    "        i=0\n",
    "        j=len(numbers)-1\n",
    "\n",
    "        while i<len(numbers):\n",
    "            v=numbers[i]+numbers[j]\n",
    "            if v>target:\n",
    "                j-=1\n",
    "            elif v<target:\n",
    "                i+=1\n",
    "            else:\n",
    "                return [i+1,j+1]\n"
   ]
  },
  {
   "cell_type": "code",
   "execution_count": 13,
   "id": "58b1270a-ea8b-479e-bbee-cc20422fd2da",
   "metadata": {},
   "outputs": [
    {
     "name": "stdout",
     "output_type": "stream",
     "text": [
      "2\n"
     ]
    }
   ],
   "source": [
    "nums = [-2,0,1,3]\n",
    "target = 1\n",
    "n=len(nums)\n",
    "t=0\n",
    "for i in range(n):\n",
    "    j,k=i+1,n-1\n",
    "    \n",
    "    while j<k:\n",
    "        v=nums[i]+nums[j]+nums[k]\n",
    "        if v>target:\n",
    "            k-=1\n",
    "        else:\n",
    "            t+=k-j\n",
    "            j+=1\n",
    "    \n",
    "print(t)"
   ]
  },
  {
   "cell_type": "code",
   "execution_count": 1,
   "id": "25ae14ce-da56-491b-ba70-80651d314987",
   "metadata": {},
   "outputs": [
    {
     "name": "stdout",
     "output_type": "stream",
     "text": [
      "Counter({10: 3, 30: 3, 20: 2, 40: 1})\n"
     ]
    }
   ],
   "source": [
    "# collections\n",
    "from collections import Counter\n",
    "l=[10,20,30,30,10,10,30,20,40]\n",
    "a=Counter(l)\n",
    "print(a)"
   ]
  },
  {
   "cell_type": "code",
   "execution_count": 2,
   "id": "2adc16d4-acd7-419f-8698-18bb210a33e5",
   "metadata": {},
   "outputs": [
    {
     "data": {
      "text/plain": [
       "[(10, 3)]"
      ]
     },
     "execution_count": 2,
     "metadata": {},
     "output_type": "execute_result"
    }
   ],
   "source": [
    "a.most_common(1)"
   ]
  },
  {
   "cell_type": "code",
   "execution_count": 3,
   "id": "40c83baa-5d62-4cc2-b56c-06350898c57f",
   "metadata": {},
   "outputs": [
    {
     "data": {
      "text/plain": [
       "[10, 10, 10, 20, 20, 30, 30, 30, 40]"
      ]
     },
     "execution_count": 3,
     "metadata": {},
     "output_type": "execute_result"
    }
   ],
   "source": [
    "list(a.elements())"
   ]
  },
  {
   "cell_type": "code",
   "execution_count": 7,
   "id": "1c48f7b0-7717-49c0-965e-4f67e4b33c9c",
   "metadata": {},
   "outputs": [
    {
     "name": "stdout",
     "output_type": "stream",
     "text": [
      "dict_items([('a', 10), ('b', 'not a value')])\n"
     ]
    }
   ],
   "source": [
    "def func():\n",
    "    return \"not a value\"\n",
    "\n",
    "from collections import defaultdict\n",
    "d=defaultdict(func)\n",
    "d['a']=10\n",
    "d['b']\n",
    "print(d.items())"
   ]
  },
  {
   "cell_type": "code",
   "execution_count": 14,
   "id": "ac61eca9-6821-410a-b068-0df5f2a91a13",
   "metadata": {},
   "outputs": [
    {
     "name": "stdout",
     "output_type": "stream",
     "text": [
      "dict_items([(10, ['tushar']), (20, ['aman']), (30, ['abc'])])\n",
      "dict_items([(10, ['tushar']), (20, ['aman']), (30, ['abc']), (40, [])])\n"
     ]
    }
   ],
   "source": [
    "mylist=[(10,\"tushar\"),(20,\"aman\"),(30,\"abc\")]\n",
    "s=defaultdict(list)\n",
    "\n",
    "for roll,name in mylist:\n",
    "    s[roll].append(name)\n",
    "print(s.items())\n",
    "\n",
    "s[40]\n",
    "print(s.items())"
   ]
  },
  {
   "cell_type": "code",
   "execution_count": 21,
   "id": "efa70c3f-e31f-4446-9e04-3a35f8366598",
   "metadata": {},
   "outputs": [
    {
     "name": "stdout",
     "output_type": "stream",
     "text": [
      "OrderedDict({'a': 1, 'b': 99, 'aa': 123})\n",
      "OrderedDict({'b': 99, 'a': 1, 'aa': 123})\n"
     ]
    }
   ],
   "source": [
    "from collections import OrderedDict\n",
    "\n",
    "o=OrderedDict()\n",
    "o[\"a\"]=1\n",
    "o[\"b\"]=99\n",
    "o[\"aa\"]=123\n",
    "print(o)\n",
    "o.move_to_end(\"b\",last=False)\n",
    "print(o)\n"
   ]
  },
  {
   "cell_type": "code",
   "execution_count": 23,
   "id": "58dfd93f-7d20-4ea2-88ef-53b177b69df7",
   "metadata": {},
   "outputs": [
    {
     "name": "stdout",
     "output_type": "stream",
     "text": [
      "11 11\n",
      "22 22\n"
     ]
    }
   ],
   "source": [
    "from collections import namedtuple\n",
    "\n",
    "point123=namedtuple('point',['x','y'])\n",
    "p=point123(11,22)\n",
    "print(p.x,p[0])\n",
    "print(p.y,p[1])"
   ]
  },
  {
   "cell_type": "code",
   "execution_count": 26,
   "id": "361b321b-5ea2-4841-9d9b-e7b263a9fba4",
   "metadata": {},
   "outputs": [
    {
     "data": {
      "text/plain": [
       "deque([23, 1, 234, 2, 33, 445, 6, 4, 43])"
      ]
     },
     "execution_count": 26,
     "metadata": {},
     "output_type": "execute_result"
    }
   ],
   "source": [
    "from collections import deque\n",
    "d=deque([1,234,2,33,445,6,4])\n",
    "d.append(43)\n",
    "d.appendleft(23)\n",
    "d"
   ]
  },
  {
   "cell_type": "code",
   "execution_count": null,
   "id": "24febeff-2750-4869-8a13-662e248af98f",
   "metadata": {},
   "outputs": [],
   "source": []
  }
 ],
 "metadata": {
  "kernelspec": {
   "display_name": "Python 3 (ipykernel)",
   "language": "python",
   "name": "python3"
  },
  "language_info": {
   "codemirror_mode": {
    "name": "ipython",
    "version": 3
   },
   "file_extension": ".py",
   "mimetype": "text/x-python",
   "name": "python",
   "nbconvert_exporter": "python",
   "pygments_lexer": "ipython3",
   "version": "3.12.4"
  }
 },
 "nbformat": 4,
 "nbformat_minor": 5
}
