{
 "cells": [
  {
   "cell_type": "code",
   "execution_count": 1,
   "id": "c52be5f7-db76-4d63-915e-7d47445d06ec",
   "metadata": {},
   "outputs": [
    {
     "data": {
      "text/plain": [
       "'\\n'"
      ]
     },
     "execution_count": 1,
     "metadata": {},
     "output_type": "execute_result"
    }
   ],
   "source": [
    "#Abstraction\n",
    "'''\n",
    "-Abstraction in python is defined as a process of handling complexity by hiding unnecessary information from the user.\n",
    "-In Python, abstraction can be achieved by having/using abstract classes and methods in our programs.\n",
    "-Python provides the abc module to use the abstraction in the Python.\n",
    "-syntax=> from abc import ABC,abstractmethod\n",
    "          class ClassName(ABC):\n",
    "-abstract base class cannot be intitialise(it work as a blueprint for all the child classes)\n",
    "-first we have make a abstract class then in abstract class we have to make atleasst one abstract method by decorator @abstractmethod.\n",
    "-second we implement our code in child class.\n",
    "'''\n"
   ]
  },
  {
   "cell_type": "code",
   "execution_count": 16,
   "id": "e050f79b-4bfb-4b88-9024-4469c84eadcd",
   "metadata": {},
   "outputs": [
    {
     "name": "stdout",
     "output_type": "stream",
     "text": [
      "I have 2 legs\n",
      "I have 8 legs\n",
      "I have 4 legs\n"
     ]
    }
   ],
   "source": [
    "# Python program showing\n",
    "# abstract base class work\n",
    "from abc import ABC, abstractmethod\n",
    "\n",
    "class Animal(ABC):\n",
    "    @abstractmethod\n",
    "    def legcount(self):\n",
    "        pass\n",
    "\n",
    "class Human(Animal):\n",
    "\n",
    "\tdef legcount(self):\n",
    "\t\tprint(\"I have 2 legs\")\n",
    "\n",
    "class Spider(Animal):\n",
    "\n",
    "\tdef legcount(self):\n",
    "\t\tprint(\"I have 8 legs\")\n",
    "\n",
    "class Dog(Animal):\n",
    "\n",
    "\tdef legcount(self):\n",
    "\t\tprint(\"I have 4 legs\")\n",
    "\n",
    "\n",
    "H = Human()\n",
    "H.legcount()\n",
    "\n",
    "S = Spider()\n",
    "S.legcount()\n",
    "\n",
    "D = Dog()\n",
    "D.legcount()\n"
   ]
  },
  {
   "cell_type": "code",
   "execution_count": null,
   "id": "66dac110-bfd5-4446-82d4-a2ae71760fe5",
   "metadata": {},
   "outputs": [],
   "source": [
    "#decorators=>\n",
    "'''\n",
    "-it allows programmers to modify the behaviour of a function or class\n",
    "-Decorators allow us to wrap another function in order to extend the behaviour of the wrapped function, without permanently modifying it\n",
    "'''"
   ]
  }
 ],
 "metadata": {
  "kernelspec": {
   "display_name": "Python 3 (ipykernel)",
   "language": "python",
   "name": "python3"
  },
  "language_info": {
   "codemirror_mode": {
    "name": "ipython",
    "version": 3
   },
   "file_extension": ".py",
   "mimetype": "text/x-python",
   "name": "python",
   "nbconvert_exporter": "python",
   "pygments_lexer": "ipython3",
   "version": "3.10.11"
  }
 },
 "nbformat": 4,
 "nbformat_minor": 5
}
