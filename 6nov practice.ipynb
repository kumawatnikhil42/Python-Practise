{
 "cells": [
  {
   "cell_type": "code",
   "execution_count": 4,
   "id": "605ddb5a-df16-4986-9388-09e073efcfa4",
   "metadata": {},
   "outputs": [
    {
     "data": {
      "text/plain": [
       "30"
      ]
     },
     "execution_count": 4,
     "metadata": {},
     "output_type": "execute_result"
    }
   ],
   "source": [
    "                                                                        #Generator\n",
    "def xyz(a,b):\n",
    "    yield a+b\n",
    "    yield 2\n",
    "    yield 3\n",
    "#yield return the generator object(itertor)\n",
    "x=xyz(10,20)\n",
    "\n",
    "next(x)\n",
    "#next(x)\n",
    "#next(x)"
   ]
  },
  {
   "cell_type": "code",
   "execution_count": 5,
   "id": "a4147dc6-8ad9-4cae-8bcf-b32aa32a1f61",
   "metadata": {},
   "outputs": [
    {
     "name": "stdout",
     "output_type": "stream",
     "text": [
      "30\n",
      "2\n",
      "3\n"
     ]
    }
   ],
   "source": [
    "#we can use for loop also instead of calling next method again and again\n",
    "for i in xyz(10,20):\n",
    "    print(i)"
   ]
  },
  {
   "cell_type": "code",
   "execution_count": 17,
   "id": "51a3b6cd-91d8-4e82-baed-960bdf99642b",
   "metadata": {},
   "outputs": [
    {
     "data": {
      "text/plain": [
       "3"
      ]
     },
     "execution_count": 17,
     "metadata": {},
     "output_type": "execute_result"
    }
   ],
   "source": [
    "#fibonacci series\n",
    "def fibo(n):\n",
    "    x=0\n",
    "    y=1\n",
    "    for i in range(n):\n",
    "        yield x\n",
    "        x,y=y,y+x\n",
    "\n",
    "fi=fibo(5)\n",
    "next(fi)\n",
    "next(fi)\n",
    "next(fi)\n",
    "next(fi)\n",
    "next(fi)\n"
   ]
  },
  {
   "cell_type": "code",
   "execution_count": 18,
   "id": "420c18e0-d4e5-4713-9e7f-8940ead8f22d",
   "metadata": {},
   "outputs": [
    {
     "data": {
      "text/plain": [
       "1"
      ]
     },
     "execution_count": 18,
     "metadata": {},
     "output_type": "execute_result"
    }
   ],
   "source": [
    "#all itertors are not generator while all generator are itertor\n",
    "class FirstGenerator:\n",
    "    def __init__(self):\n",
    "        self.number=0\n",
    "\n",
    "    def __next__(self):\n",
    "        if self.number<5:\n",
    "            current=self.number\n",
    "            self.number=self.number+1\n",
    "            return current\n",
    "\n",
    "        else:\n",
    "            raise StopIteration()\n",
    "\n",
    "f1=FirstGenerator()\n",
    "next(f1)\n",
    "next(f1)        "
   ]
  },
  {
   "cell_type": "code",
   "execution_count": 9,
   "id": "33a9fabe-c90d-4091-87ae-2030d2b2b15a",
   "metadata": {},
   "outputs": [
    {
     "data": {
      "text/plain": [
       "'h'"
      ]
     },
     "execution_count": 9,
     "metadata": {},
     "output_type": "execute_result"
    }
   ],
   "source": [
    "#iter() method covert iterable into intertor\n",
    "s_iter=iter(\"hey\")\n",
    "next(s_iter)\n",
    "#itertor return the stopiteration error if element is not found"
   ]
  }
 ],
 "metadata": {
  "kernelspec": {
   "display_name": "Python 3 (ipykernel)",
   "language": "python",
   "name": "python3"
  },
  "language_info": {
   "codemirror_mode": {
    "name": "ipython",
    "version": 3
   },
   "file_extension": ".py",
   "mimetype": "text/x-python",
   "name": "python",
   "nbconvert_exporter": "python",
   "pygments_lexer": "ipython3",
   "version": "3.10.11"
  }
 },
 "nbformat": 4,
 "nbformat_minor": 5
}
