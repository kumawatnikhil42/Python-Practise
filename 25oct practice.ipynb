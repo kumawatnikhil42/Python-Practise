{
 "cells": [
  {
   "cell_type": "code",
   "execution_count": 1,
   "id": "5a5c1052-2e0f-48ea-8542-92815b4c67bb",
   "metadata": {},
   "outputs": [
    {
     "name": "stdout",
     "output_type": "stream",
     "text": [
      "student detail nikhil\n"
     ]
    }
   ],
   "source": [
    "#class and objects\n",
    "#class=> it is collection of objects and it contains the blueprints or the prototype from which the objects are being created\n",
    "#object=>it is an entity which has state(characterstic) and behaviour(functionality)\n",
    "#syntax=> class Student:\n",
    "              #statements  \n",
    "\n",
    "class Student:\n",
    "    name=\"nikhil\"\n",
    "    sid=10\n",
    "    #self is default parameter use always\n",
    "    def info(self):\n",
    "        #in func. variable print with self\n",
    "        print(\"student detail\",self.name)\n",
    "\n",
    "student1=Student()\n",
    "student1.info()"
   ]
  },
  {
   "cell_type": "code",
   "execution_count": 17,
   "id": "a1ccd777-77c7-474e-a93e-60035aff8719",
   "metadata": {},
   "outputs": [
    {
     "name": "stdout",
     "output_type": "stream",
     "text": [
      "hello <__main__.Student object at 0x0000022F600A7AC0> "
     ]
    }
   ],
   "source": [
    "#constructer=>it helps to initialize memory and it always run when object is created\n",
    "#syntax =>__init__()\n",
    "#self=> it represents the instance of class that is currently being used\n",
    "#self is pass as argument always\n",
    "\n",
    "class Student:\n",
    "    def __init__(self):\n",
    "        print(\"hello\")\n",
    "\n",
    "std1=Student()"
   ]
  },
  {
   "cell_type": "code",
   "execution_count": 26,
   "id": "4db6b87c-5be3-43c5-a67c-034cb1740421",
   "metadata": {},
   "outputs": [
    {
     "name": "stdout",
     "output_type": "stream",
     "text": [
      "employee detail: 10 Nikhil Information Technology 50000\n"
     ]
    }
   ],
   "source": [
    "class Employee:\n",
    "    sid=10\n",
    "    name=\"Nikhil\"\n",
    "    department=\"Information Technology\"\n",
    "    salary=50000\n",
    "    def __init__(self):\n",
    "        print(\"employee detail:\",self.sid,self.name,self.department,self.salary)\n",
    "\n",
    "emp1=Employee()\n"
   ]
  },
  {
   "cell_type": "code",
   "execution_count": null,
   "id": "19d2297c-e464-4bbf-9692-6838d4c7dae4",
   "metadata": {},
   "outputs": [],
   "source": []
  }
 ],
 "metadata": {
  "kernelspec": {
   "display_name": "Python 3 (ipykernel)",
   "language": "python",
   "name": "python3"
  },
  "language_info": {
   "codemirror_mode": {
    "name": "ipython",
    "version": 3
   },
   "file_extension": ".py",
   "mimetype": "text/x-python",
   "name": "python",
   "nbconvert_exporter": "python",
   "pygments_lexer": "ipython3",
   "version": "3.10.11"
  }
 },
 "nbformat": 4,
 "nbformat_minor": 5
}
