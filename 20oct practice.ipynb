{
 "cells": [
  {
   "cell_type": "code",
   "execution_count": 14,
   "id": "8ac48c54-e230-4cfa-b3f7-44ccaf1d7227",
   "metadata": {},
   "outputs": [
    {
     "name": "stdout",
     "output_type": "stream",
     "text": [
      "[2, 3, 4, 5]\n"
     ]
    }
   ],
   "source": [
    "#map()=>this function operates independently on each items rather than single result\n",
    "def add(num):\n",
    "    return num+1\n",
    "num=list(map(add,[1,2,3,4]))\n",
    "print(num)\n"
   ]
  },
  {
   "cell_type": "code",
   "execution_count": 15,
   "id": "83dbfac1-c1b0-4287-acb4-aa133ba86b24",
   "metadata": {},
   "outputs": [
    {
     "name": "stdout",
     "output_type": "stream",
     "text": [
      "[2, 3, 4, 5]\n"
     ]
    }
   ],
   "source": [
    "#by lambda\n",
    "add=lambda num:num+1\n",
    "num=list(map(add,[1,2,3,4]))\n",
    "print(num)"
   ]
  },
  {
   "cell_type": "code",
   "execution_count": 3,
   "id": "7ba05a4a-e0b1-4201-b38b-600fed0c3903",
   "metadata": {},
   "outputs": [
    {
     "name": "stdout",
     "output_type": "stream",
     "text": [
      "[2, 4, 6, 8, 10]\n"
     ]
    }
   ],
   "source": [
    "#filter()=>this create new iterator that filters the elements from old iterator\n",
    "mylist=[1,2,3,4,5,6,7,8,9,10]\n",
    "even_num=lambda x:x%2==0\n",
    "newlist=list(filter(even_num,mylist))\n",
    "print(newlist)\n"
   ]
  },
  {
   "cell_type": "code",
   "execution_count": null,
   "id": "5e34c264-cb2d-42c7-b74b-dd7a679544d8",
   "metadata": {},
   "outputs": [],
   "source": [
    "#reduce=>thi function function reduce the iterable and return single value.\n",
    "#Note:first reduce should be import\n",
    "import"
   ]
  }
 ],
 "metadata": {
  "kernelspec": {
   "display_name": "Python 3 (ipykernel)",
   "language": "python",
   "name": "python3"
  },
  "language_info": {
   "codemirror_mode": {
    "name": "ipython",
    "version": 3
   },
   "file_extension": ".py",
   "mimetype": "text/x-python",
   "name": "python",
   "nbconvert_exporter": "python",
   "pygments_lexer": "ipython3",
   "version": "3.10.11"
  }
 },
 "nbformat": 4,
 "nbformat_minor": 5
}
