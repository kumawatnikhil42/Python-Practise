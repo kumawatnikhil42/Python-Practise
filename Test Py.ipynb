{
 "cells": [
  {
   "cell_type": "markdown",
   "id": "e69dc1a2",
   "metadata": {},
   "source": [
    "# Case Study 1:"
   ]
  },
  {
   "cell_type": "code",
   "execution_count": 1,
   "id": "95553368",
   "metadata": {},
   "outputs": [
    {
     "name": "stdout",
     "output_type": "stream",
     "text": [
      "Enter Name:nikhil\n",
      "Enter no. of Grades:2\n",
      "Enter Grades:20\n",
      "Enter Grades:40\n",
      "Student Name: nikhil\n",
      "Average Grade: 30.0\n",
      "Result: Fail\n"
     ]
    }
   ],
   "source": [
    "students=[]\n",
    "name=input(\"Enter Name:\")\n",
    "grade=[]\n",
    "n=int(input(\"Enter no. of Grades:\"))\n",
    "total=0\n",
    "for i in range(n):\n",
    "    grades=int(input(\"Enter Grades:\"))\n",
    "    grade.append(grades)\n",
    "for j in grade:\n",
    "    total+=j\n",
    "average=total/len(grade)\n",
    "print(\"Student Name:\",name)\n",
    "print(\"Average Grade:\",average)\n",
    "if (average>=60):\n",
    "    print(\"Result: Pass\")\n",
    "else:\n",
    "    print(\"Result: Fail\")"
   ]
  },
  {
   "cell_type": "markdown",
   "id": "6c17c788",
   "metadata": {},
   "source": [
    "# Case Study 3:"
   ]
  },
  {
   "cell_type": "code",
   "execution_count": 2,
   "id": "6c5e3430",
   "metadata": {},
   "outputs": [
    {
     "name": "stdout",
     "output_type": "stream",
     "text": [
      "Enter Celcius(c)/Fahrenheit(f):c\n",
      "Enter temperature:30\n",
      "Temperature in Fahrenheit: 86.0\n"
     ]
    }
   ],
   "source": [
    "def converter():    \n",
    "    temp_cf=input(\"Enter Celcius(c)/Fahrenheit(f):\")\n",
    "    temp_n=int(input(\"Enter temperature:\"))\n",
    "    if(temp_cf==\"c\"):\n",
    "        temp=(9/5)*temp_n+32\n",
    "        print(\"Temperature in Fahrenheit:\",temp)\n",
    "    elif(temp_cf==\"f\"):\n",
    "        temp=(5/9)*(temp_n-32)\n",
    "        print(\"Temperature in Celsius:\",temp)\n",
    "converter()"
   ]
  },
  {
   "cell_type": "markdown",
   "id": "d4f2ddf7",
   "metadata": {},
   "source": [
    "# Case Study 4:"
   ]
  },
  {
   "cell_type": "code",
   "execution_count": 5,
   "id": "ef78cce8",
   "metadata": {},
   "outputs": [
    {
     "name": "stdout",
     "output_type": "stream",
     "text": [
      "{'Mango': 30, 'Orange': 40, 'Milk': 25, 'Detergent': 10}\n",
      "Enter Number of you have to purchase:3\n",
      "Enter Item:Orange\n",
      "Enter Item:Mango\n",
      "Enter Item:Orange\n",
      "Total Price : 110\n",
      "Total Price after Discount: 100\n"
     ]
    }
   ],
   "source": [
    "shopping_items={\"Mango\":30,\"Orange\":40,\"Milk\":25,\"Detergent\":10}\n",
    "items=[]\n",
    "price=[]\n",
    "print(shopping_items)\n",
    "n=int(input(\"Enter Number of you have to purchase:\"))\n",
    "for i in range(n):\n",
    "    item=input(\"Enter Item:\")\n",
    "    if(item==\"Mango\"):\n",
    "        items.append(\"Mango\")\n",
    "        price.append(30)\n",
    "    elif(item==\"Orange\"):\n",
    "        items.append(\"Orange\")\n",
    "        price.append(40)\n",
    "    elif(item==\"Milk\"):\n",
    "        items.append(\"Milk\")\n",
    "        price.append(25)\n",
    "    elif(item==\"Detergent\"):\n",
    "        items.append(\"Detergent\")\n",
    "        price.append(10)\n",
    "total_price=0\n",
    "for j in price:\n",
    "    total_price+=j\n",
    "print(\"Total Price :\",total_price)\n",
    "if(total_price>100):\n",
    "    total_price-=10\n",
    "print(\"Total Price after Discount:\",total_price)\n"
   ]
  },
  {
   "cell_type": "markdown",
   "id": "18df4b43",
   "metadata": {},
   "source": [
    "# Case Study 5: "
   ]
  },
  {
   "cell_type": "code",
   "execution_count": 7,
   "id": "a8c4ec73",
   "metadata": {},
   "outputs": [
    {
     "name": "stdout",
     "output_type": "stream",
     "text": [
      "Enter your Name:Ankush\n",
      "Total Balance: 2000\n",
      "Withdraw or Deposit:Withdraw\n",
      "Enter the withdrawal amount:1000\n",
      "Total Balance After Withdrawal: 1000.0\n"
     ]
    }
   ],
   "source": [
    "accounts = {\"Mohit\": 20000, \"Ankush\": 2000, \"Gaurav\": 4000}\n",
    "\n",
    "name = input(\"Enter your Name:\")\n",
    "\n",
    "try:\n",
    "    if name in accounts:\n",
    "        print(\"Total Balance:\", accounts[name])\n",
    "        operation = input(\"Withdraw or Deposit:\")\n",
    "\n",
    "        if (operation == \"Withdraw\"):\n",
    "            amount = float(input(\"Enter the withdrawal amount:\"))\n",
    "            if amount > 0 and amount <= accounts[name]:\n",
    "                accounts[name] -= amount\n",
    "                print(\"Total Balance After Withdrawal:\",accounts[name])\n",
    "            else:\n",
    "                print(\"Insufficient Balance\")\n",
    "\n",
    "        elif operation == \"Deposit\":\n",
    "            amount = float(input(\"Enter the deposit amount:\"))\n",
    "            if amount > 0:\n",
    "                accounts[name] += amount\n",
    "                print(\"Total Balance After Deposit:\",accounts[name])\n",
    "            else:\n",
    "                print(\"Enter Valid Amount\")\n",
    "\n",
    "        else:\n",
    "            print(\"Please enter Withdraw or Deposit\")\n",
    "    else:\n",
    "        print(\"Your account is not found\")\n",
    "\n",
    "except ValueError:\n",
    "    print(\"Please enter valid Detail\")\n",
    "\n"
   ]
  },
  {
   "cell_type": "markdown",
   "id": "5b5bcf6f",
   "metadata": {},
   "source": [
    "# Case Study 2:"
   ]
  },
  {
   "cell_type": "code",
   "execution_count": 22,
   "id": "d04cd7a4",
   "metadata": {},
   "outputs": [
    {
     "name": "stdout",
     "output_type": "stream",
     "text": [
      "Book Added\n",
      "Library Catalog:\n",
      "Title: xyz \n",
      "Author: abc \n",
      "Available Copies: 5\n"
     ]
    }
   ],
   "source": [
    "library_catalog = {}\n",
    "\n",
    "def add_book(title, author, copies):\n",
    "    if (title not in library_catalog):\n",
    "        library_catalog[title] = {\"author\": author, \"copies\": copies}\n",
    "        print(\"Book Added\")\n",
    "\n",
    "def display_catalog():\n",
    "    print(\"Library Catalog:\")\n",
    "    for title, info in library_catalog.items():\n",
    "        print(\"Title:\" ,title, \"\\nAuthor:\", info['author'], \"\\nAvailable Copies:\",info['copies'])\n",
    "\n",
    "def check_out_book(title, num_copies=1):\n",
    "    if title in library_catalog and library_catalog[title][\"copies\"] >= num_copies:\n",
    "        library_catalog[title][\"copies\"] -= num_copies\n",
    "        print(\"Checked out:\",num_copies  )\n",
    "    else:\n",
    "        print(\"Not Available\")\n",
    "\n",
    "def return_book(title, num_copies=1):\n",
    "    if title in library_catalog:\n",
    "        library_catalog[title][\"copies\"] += num_copies\n",
    "        print(\"Returned\",num_copies)\n",
    "    else:\n",
    "        print(\"Not Available\")\n",
    "\n",
    "add_book(\"xyz\",\"abc\",5)\n",
    "display_catalog()"
   ]
  },
  {
   "cell_type": "code",
   "execution_count": null,
   "id": "7e6e4ea1",
   "metadata": {},
   "outputs": [],
   "source": []
  }
 ],
 "metadata": {
  "kernelspec": {
   "display_name": "Python 3 (ipykernel)",
   "language": "python",
   "name": "python3"
  },
  "language_info": {
   "codemirror_mode": {
    "name": "ipython",
    "version": 3
   },
   "file_extension": ".py",
   "mimetype": "text/x-python",
   "name": "python",
   "nbconvert_exporter": "python",
   "pygments_lexer": "ipython3",
   "version": "3.11.5"
  }
 },
 "nbformat": 4,
 "nbformat_minor": 5
}
